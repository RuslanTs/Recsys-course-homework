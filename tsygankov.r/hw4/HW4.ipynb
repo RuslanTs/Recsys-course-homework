{
 "cells": [
  {
   "cell_type": "markdown",
   "metadata": {},
   "source": [
    "# Подсчет OPE метрики clipped ips на последнем дне. В качестве модели для оценки - линейная модель из первого задания.\n",
    "\n",
    "Входные параметры:\n",
    "* lambda = 10\n",
    "* ревард равен 1 если в наблюдении был клик и 0 в противном случае\n",
    "\n",
    "Обучение/валидация на предыдущем/текущем дне, т.к. если брать данные для обучения за больший период, то они вносят больше шума и метрики падают\n",
    "\n",
    "* Модель logreg с фичами взаимодействий и target encoding\n",
    "* best_params = {'params': {'C': 0.5, 'max_iter': 300, 'random_state': 1}\n",
    "* test log_loss with best params =  0.13998072945658324"
   ]
  },
  {
   "cell_type": "code",
   "execution_count": 138,
   "metadata": {},
   "outputs": [],
   "source": [
    "import pandas as pd\n",
    "from functools import partial\n",
    "from scipy.special import logit\n",
    "from scipy.stats import norm"
   ]
  },
  {
   "cell_type": "code",
   "execution_count": 2,
   "metadata": {},
   "outputs": [],
   "source": [
    "from typing import List\n",
    "\n",
    "from sklearn.linear_model import LogisticRegression\n",
    "import numpy as np\n",
    "import category_encoders as ce\n",
    "import logging\n",
    "\n",
    "logging.basicConfig(format='%(asctime)s %(message)s',\n",
    "                    level=logging.DEBUG)"
   ]
  },
  {
   "cell_type": "code",
   "execution_count": 10,
   "metadata": {},
   "outputs": [],
   "source": [
    "columns = ['date_time', 'zone_id', 'banner_id',\n",
    "       'os_id', 'country_id', 'banner_id0', 'rate0', 'g0', 'coeff_sum0',\n",
    "       'banner_id1', 'rate1', 'g1', 'coeff_sum1', 'clicks']"
   ]
  },
  {
   "cell_type": "code",
   "execution_count": 11,
   "metadata": {},
   "outputs": [
    {
     "data": {
      "text/plain": [
       "15"
      ]
     },
     "execution_count": 11,
     "metadata": {},
     "output_type": "execute_result"
    }
   ],
   "source": [
    "len(columns)"
   ]
  },
  {
   "cell_type": "code",
   "execution_count": 13,
   "metadata": {
    "pycharm": {
     "name": "#%%\n"
    }
   },
   "outputs": [
    {
     "data": {
      "text/html": [
       "<div>\n",
       "<style scoped>\n",
       "    .dataframe tbody tr th:only-of-type {\n",
       "        vertical-align: middle;\n",
       "    }\n",
       "\n",
       "    .dataframe tbody tr th {\n",
       "        vertical-align: top;\n",
       "    }\n",
       "\n",
       "    .dataframe thead th {\n",
       "        text-align: right;\n",
       "    }\n",
       "</style>\n",
       "<table border=\"1\" class=\"dataframe\">\n",
       "  <thead>\n",
       "    <tr style=\"text-align: right;\">\n",
       "      <th></th>\n",
       "      <th>date_time</th>\n",
       "      <th>zone_id</th>\n",
       "      <th>banner_id</th>\n",
       "      <th>campaign_clicks</th>\n",
       "      <th>os_id</th>\n",
       "      <th>country_id</th>\n",
       "      <th>banner_id0</th>\n",
       "      <th>rate0</th>\n",
       "      <th>g0</th>\n",
       "      <th>coeff_sum0</th>\n",
       "      <th>banner_id1</th>\n",
       "      <th>rate1</th>\n",
       "      <th>g1</th>\n",
       "      <th>coeff_sum1</th>\n",
       "      <th>clicks</th>\n",
       "    </tr>\n",
       "  </thead>\n",
       "  <tbody>\n",
       "    <tr>\n",
       "      <th>0</th>\n",
       "      <td>2021-09-27 00:01:30</td>\n",
       "      <td>0</td>\n",
       "      <td>0</td>\n",
       "      <td>0</td>\n",
       "      <td>0</td>\n",
       "      <td>0</td>\n",
       "      <td>1240</td>\n",
       "      <td>0.067</td>\n",
       "      <td>0.035016</td>\n",
       "      <td>-7.268846</td>\n",
       "      <td>0</td>\n",
       "      <td>0.010</td>\n",
       "      <td>0.049516</td>\n",
       "      <td>-5.369901</td>\n",
       "      <td>1</td>\n",
       "    </tr>\n",
       "    <tr>\n",
       "      <th>1</th>\n",
       "      <td>2021-09-26 22:54:49</td>\n",
       "      <td>1</td>\n",
       "      <td>1</td>\n",
       "      <td>0</td>\n",
       "      <td>0</td>\n",
       "      <td>1</td>\n",
       "      <td>1</td>\n",
       "      <td>0.002</td>\n",
       "      <td>0.054298</td>\n",
       "      <td>-2.657477</td>\n",
       "      <td>269</td>\n",
       "      <td>0.004</td>\n",
       "      <td>0.031942</td>\n",
       "      <td>-4.449220</td>\n",
       "      <td>1</td>\n",
       "    </tr>\n",
       "    <tr>\n",
       "      <th>2</th>\n",
       "      <td>2021-09-26 23:57:20</td>\n",
       "      <td>2</td>\n",
       "      <td>2</td>\n",
       "      <td>3</td>\n",
       "      <td>0</td>\n",
       "      <td>0</td>\n",
       "      <td>2</td>\n",
       "      <td>0.014</td>\n",
       "      <td>0.014096</td>\n",
       "      <td>-3.824875</td>\n",
       "      <td>21</td>\n",
       "      <td>0.014</td>\n",
       "      <td>0.014906</td>\n",
       "      <td>-3.939309</td>\n",
       "      <td>1</td>\n",
       "    </tr>\n",
       "    <tr>\n",
       "      <th>3</th>\n",
       "      <td>2021-09-27 00:04:30</td>\n",
       "      <td>3</td>\n",
       "      <td>3</td>\n",
       "      <td>0</td>\n",
       "      <td>1</td>\n",
       "      <td>1</td>\n",
       "      <td>3</td>\n",
       "      <td>0.012</td>\n",
       "      <td>0.015232</td>\n",
       "      <td>-3.461357</td>\n",
       "      <td>99</td>\n",
       "      <td>0.006</td>\n",
       "      <td>0.050671</td>\n",
       "      <td>-3.418403</td>\n",
       "      <td>1</td>\n",
       "    </tr>\n",
       "    <tr>\n",
       "      <th>4</th>\n",
       "      <td>2021-09-27 00:06:21</td>\n",
       "      <td>4</td>\n",
       "      <td>4</td>\n",
       "      <td>0</td>\n",
       "      <td>1</td>\n",
       "      <td>0</td>\n",
       "      <td>4</td>\n",
       "      <td>0.019</td>\n",
       "      <td>0.051265</td>\n",
       "      <td>-4.009026</td>\n",
       "      <td>11464230</td>\n",
       "      <td>6.790</td>\n",
       "      <td>0.032005</td>\n",
       "      <td>-2.828797</td>\n",
       "      <td>1</td>\n",
       "    </tr>\n",
       "  </tbody>\n",
       "</table>\n",
       "</div>"
      ],
      "text/plain": [
       "            date_time  zone_id  banner_id  campaign_clicks  os_id  country_id  \\\n",
       "0 2021-09-27 00:01:30        0          0                0      0           0   \n",
       "1 2021-09-26 22:54:49        1          1                0      0           1   \n",
       "2 2021-09-26 23:57:20        2          2                3      0           0   \n",
       "3 2021-09-27 00:04:30        3          3                0      1           1   \n",
       "4 2021-09-27 00:06:21        4          4                0      1           0   \n",
       "\n",
       "   banner_id0  rate0        g0  coeff_sum0  banner_id1  rate1        g1  \\\n",
       "0        1240  0.067  0.035016   -7.268846           0  0.010  0.049516   \n",
       "1           1  0.002  0.054298   -2.657477         269  0.004  0.031942   \n",
       "2           2  0.014  0.014096   -3.824875          21  0.014  0.014906   \n",
       "3           3  0.012  0.015232   -3.461357          99  0.006  0.050671   \n",
       "4           4  0.019  0.051265   -4.009026    11464230  6.790  0.032005   \n",
       "\n",
       "   coeff_sum1  clicks  \n",
       "0   -5.369901       1  \n",
       "1   -4.449220       1  \n",
       "2   -3.939309       1  \n",
       "3   -3.418403       1  \n",
       "4   -2.828797       1  "
      ]
     },
     "execution_count": 13,
     "metadata": {},
     "output_type": "execute_result"
    }
   ],
   "source": [
    "data = pd.read_csv('../../data/data.csv',\n",
    "                   parse_dates=['date_time']\n",
    "                   , usecols=columns)\n",
    "data.head()"
   ]
  },
  {
   "cell_type": "markdown",
   "metadata": {},
   "source": [
    "# Data cleaning"
   ]
  },
  {
   "cell_type": "code",
   "execution_count": 14,
   "metadata": {},
   "outputs": [
    {
     "data": {
      "text/plain": [
       "(Timestamp('2021-09-01 00:02:49'), Timestamp('2021-10-02 23:59:59'))"
      ]
     },
     "execution_count": 14,
     "metadata": {},
     "output_type": "execute_result"
    }
   ],
   "source": [
    "data['date_time'].min(), data['date_time'].max()"
   ]
  },
  {
   "cell_type": "code",
   "execution_count": 15,
   "metadata": {},
   "outputs": [],
   "source": [
    "all_dates = sorted(data.date_time.dt.date.unique())"
   ]
  },
  {
   "cell_type": "code",
   "execution_count": 17,
   "metadata": {},
   "outputs": [],
   "source": [
    "data = data[data['date_time'].dt.date>=all_dates[-3]]"
   ]
  },
  {
   "cell_type": "code",
   "execution_count": 16,
   "metadata": {},
   "outputs": [
    {
     "name": "stdout",
     "output_type": "stream",
     "text": [
      "<class 'pandas.core.frame.DataFrame'>\n",
      "Int64Index: 15821471 entries, 0 to 15821471\n",
      "Data columns (total 7 columns):\n",
      " #   Column           Dtype         \n",
      "---  ------           -----         \n",
      " 0   date_time        datetime64[ns]\n",
      " 1   zone_id          int16         \n",
      " 2   banner_id        int16         \n",
      " 3   campaign_clicks  int16         \n",
      " 4   os_id            int8          \n",
      " 5   country_id       int8          \n",
      " 6   clicks           int8          \n",
      "dtypes: datetime64[ns](1), int16(3), int8(3)\n",
      "memory usage: 377.2 MB\n"
     ]
    }
   ],
   "source": [
    "data.info()"
   ]
  },
  {
   "cell_type": "code",
   "execution_count": 19,
   "metadata": {},
   "outputs": [],
   "source": [
    "cat_cols = ['zone_id', 'banner_id', 'os_id', 'country_id']\n",
    "for col in cat_cols:\n",
    "    data[col] = data[col].astype(str)"
   ]
  },
  {
   "cell_type": "code",
   "execution_count": 30,
   "metadata": {},
   "outputs": [
    {
     "data": {
      "text/plain": [
       "0.8845184103108055"
      ]
     },
     "execution_count": 30,
     "metadata": {},
     "output_type": "execute_result"
    }
   ],
   "source": [
    "(data.banner_id0.astype(str)==data.banner_id).mean()"
   ]
  },
  {
   "cell_type": "code",
   "execution_count": 69,
   "metadata": {},
   "outputs": [],
   "source": [
    "data = data[data.banner_id0.astype(str)==data.banner_id]\n",
    "data2 = data.copy()\n",
    "data2['banner_id'] = data2['banner_id1']"
   ]
  },
  {
   "cell_type": "markdown",
   "metadata": {},
   "source": [
    "# Process data"
   ]
  },
  {
   "cell_type": "code",
   "execution_count": 32,
   "metadata": {
    "scrolled": true
   },
   "outputs": [],
   "source": [
    "def get_feature_zone_id_country_id(df:pd.DataFrame) -> pd.DataFrame:\n",
    "    return df['zone_id'] + df['country_id']\n",
    "\n",
    "def get_feature_zone_id_os_id(df:pd.DataFrame) -> pd.DataFrame:\n",
    "    return df['zone_id'] + df['os_id']\n",
    "\n",
    "def get_feature_os_id_country_id(df:pd.DataFrame) -> pd.DataFrame:\n",
    "    return df['os_id'] + df['country_id']\n",
    "\n",
    "def get_feature_os_id_hour(df:pd.DataFrame) -> pd.DataFrame:\n",
    "    return df['os_id'] + df['hour']\n",
    "\n",
    "def get_feature_os_id_hour_country_id(df:pd.DataFrame) -> pd.DataFrame:\n",
    "    return df['os_id'] + df['hour'] + df['country_id']\n",
    "\n",
    "def get_feature_os_id_zone_id_country_id(df:pd.DataFrame) -> pd.DataFrame:\n",
    "    return df['os_id'] + df['zone_id'] + df['country_id']\n",
    "\n",
    "def get_feature_hour_zone_id_country_id(df:pd.DataFrame) -> pd.DataFrame:\n",
    "    return df['zone_id'] + df['hour'] + df['country_id']\n",
    "\n",
    "def get_feature_banner_id_country_id(df:pd.DataFrame) -> pd.DataFrame:\n",
    "    return df['banner_id'] + df['country_id']\n",
    "\n",
    "def get_feature_banner_id_zone_id(df:pd.DataFrame) -> pd.DataFrame:\n",
    "    return df['banner_id'] + df['zone_id']\n",
    "\n",
    "def get_feature_banner_id_os_id(df:pd.DataFrame) -> pd.DataFrame:\n",
    "    return df['banner_id'] + df['os_id']\n",
    "\n",
    "def get_feature_banner_id_hour(df:pd.DataFrame) -> pd.DataFrame:\n",
    "    return df['banner_id'] + df['hour']\n",
    "\n",
    "def get_hour(df: pd.DataFrame) -> pd.DataFrame:\n",
    "    return df.date_time.dt.hour.astype(str)\n",
    "\n",
    "def feature_preparation_pipeline(df: pd.DataFrame) -> pd.DataFrame:\n",
    "    df['hour'] = get_hour(df)\n",
    "    df['zone_id_country_id'] = get_feature_zone_id_os_id(df)\n",
    "    df['zone_id_os_id'] = get_feature_zone_id_country_id(df)\n",
    "    df['os_id_country_id'] = get_feature_os_id_country_id(df)\n",
    "    df['os_id_hour'] = get_feature_os_id_hour(df)\n",
    "    df['os_id_hour_country_id'] = get_feature_os_id_hour_country_id(df)\n",
    "    df['os_id_zone_id_country_id'] = get_feature_os_id_zone_id_country_id(df)\n",
    "    df['hour_zone_id_country_id'] = get_feature_hour_zone_id_country_id(df)\n",
    "    df['banner_id_country_id'] = get_feature_banner_id_country_id(df)\n",
    "    df['banner_id_zone_id'] = get_feature_banner_id_zone_id(df)\n",
    "    df['banner_id_os_id'] = get_feature_banner_id_os_id(df)\n",
    "    df['banner_id_os_hour'] = get_feature_banner_id_hour(df)\n",
    "    return df\n"
   ]
  },
  {
   "cell_type": "code",
   "execution_count": 33,
   "metadata": {
    "code_folding": []
   },
   "outputs": [
    {
     "name": "stdout",
     "output_type": "stream",
     "text": [
      "CPU times: user 14.2 s, sys: 984 ms, total: 15.2 s\n",
      "Wall time: 15.6 s\n"
     ]
    },
    {
     "data": {
      "text/plain": [
       "Index(['date_time', 'zone_id', 'banner_id', 'campaign_clicks', 'os_id',\n",
       "       'country_id', 'banner_id0', 'rate0', 'g0', 'coeff_sum0', 'banner_id1',\n",
       "       'rate1', 'g1', 'coeff_sum1', 'clicks', 'hour', 'zone_id_country_id',\n",
       "       'zone_id_os_id', 'os_id_country_id', 'os_id_hour',\n",
       "       'os_id_hour_country_id', 'os_id_zone_id_country_id',\n",
       "       'hour_zone_id_country_id', 'banner_id_country_id', 'banner_id_zone_id',\n",
       "       'banner_id_os_id', 'banner_id_os_hour', 'transform_campaign_clicks',\n",
       "       'os_id_transform_campaign_clicks', 'zone_id_transform_campaign_clicks',\n",
       "       'country_id_transform_campaign_clicks',\n",
       "       'hour_transform_campaign_clicks'],\n",
       "      dtype='object')"
      ]
     },
     "execution_count": 33,
     "metadata": {},
     "output_type": "execute_result"
    }
   ],
   "source": [
    "%%time\n",
    "data = feature_preparation_pipeline(data)\n",
    "data2 = feature_preparation_pipeline(data2)"
   ]
  },
  {
   "cell_type": "code",
   "execution_count": 24,
   "metadata": {},
   "outputs": [],
   "source": [
    "features = ['zone_id', 'os_id', 'banner_id',\n",
    "           'country_id', 'zone_id_country_id', 'zone_id_os_id',\n",
    "           'os_id_country_id', 'hour', 'os_id_hour',\n",
    "           'os_id_hour_country_id', 'os_id_zone_id_country_id',\n",
    "           'hour_zone_id_country_id', 'banner_id_country_id', 'banner_id_zone_id',\n",
    "           'banner_id_os_id', 'banner_id_os_hour']\n",
    "\n",
    "target_enc_features = ['zone_id', 'os_id', 'banner_id',\n",
    "           'country_id', 'zone_id_country_id', 'zone_id_os_id',\n",
    "           'os_id_country_id', 'hour', 'os_id_hour',\n",
    "           'os_id_hour_country_id', 'os_id_zone_id_country_id',\n",
    "           'hour_zone_id_country_id', 'banner_id_country_id', 'banner_id_zone_id',\n",
    "           'banner_id_os_id', 'banner_id_os_hour']\n",
    "\n",
    "info_features = [ 'banner_id0','rate0',\n",
    "                  'g0','coeff_sum0',\n",
    "                  'banner_id1','rate1',\n",
    "                  'g1','coeff_sum1',]"
   ]
  },
  {
   "cell_type": "code",
   "execution_count": 159,
   "metadata": {},
   "outputs": [],
   "source": [
    "def data_transformation(data: pd.DataFrame,\n",
    "                        data2: pd.DataFrame,\n",
    "                        train_date: object,\n",
    "                        predict_date: object,\n",
    "                        features: List,\n",
    "                        target_enc_features: List) -> List:\n",
    "    \n",
    "    logging.info(f'start data trasformation')\n",
    "    cat_transformer = ce.target_encoder.TargetEncoder(cols=target_enc_features)\n",
    "    \n",
    "    tr_mask= data.date_time.dt.date==train_date\n",
    "    val_mask = data.date_time.dt.date==predict_date\n",
    "    tr_ = data[tr_mask]\n",
    "    tr_X = tr_[features + info_features]\n",
    "    tr_y = tr_['clicks']\n",
    "\n",
    "    logging.info(f'fit target encoder')\n",
    "    tr_X = cat_transformer.fit_transform(tr_X, tr_y)\n",
    "    logging.info(f'tr_X.shape is {tr_X.shape}')\n",
    "\n",
    "    val1 = data[val_mask]\n",
    "    val1_X = val1[features + info_features]\n",
    "    val_y = val1['clicks']\n",
    "    val1_X = cat_transformer.transform(val1_X)\n",
    "    logging.info(f'val1_X.shape is {val1_X.shape}')\n",
    "\n",
    "    val2 = data2[val_mask]\n",
    "    val2_X = val2[features + info_features]\n",
    "    val2_X = cat_transformer.transform(val2_X)\n",
    "    logging.info(f'val2_X.shape is {val2_X.shape}')\n",
    "    \n",
    "    return {'train_x': tr_X, 'train_y': tr_y, 'val1_x': val1_X, 'val2_x': val2_X, 'val_y': val_y}\n"
   ]
  },
  {
   "cell_type": "code",
   "execution_count": 161,
   "metadata": {},
   "outputs": [
    {
     "name": "stderr",
     "output_type": "stream",
     "text": [
      "2021-12-11 18:28:06,346 start data trasformation\n",
      "2021-12-11 18:28:55,188 fit target encoder\n",
      "2021-12-11 18:30:25,157 tr_X.shape is (1640889, 30)\n",
      "2021-12-11 18:30:57,587 val1_X.shape is (1442740, 30)\n",
      "2021-12-11 18:31:27,150 val2_X.shape is (1442740, 30)\n"
     ]
    }
   ],
   "source": [
    "X_y_validation = data_transformation(data, data2, all_dates[-3], all_dates[-2], features, target_enc_features)"
   ]
  },
  {
   "cell_type": "code",
   "execution_count": 162,
   "metadata": {},
   "outputs": [
    {
     "name": "stderr",
     "output_type": "stream",
     "text": [
      "2021-12-11 18:31:30,504 start data trasformation\n",
      "2021-12-11 18:31:40,945 fit target encoder\n",
      "2021-12-11 18:33:21,116 tr_X.shape is (1442740, 30)\n",
      "2021-12-11 18:34:05,092 val1_X.shape is (1890562, 30)\n",
      "2021-12-11 18:34:44,447 val2_X.shape is (1890562, 30)\n"
     ]
    }
   ],
   "source": [
    "X_y_test = data_transformation(data, data2, all_dates[-2], all_dates[-1], features, target_enc_features)"
   ]
  },
  {
   "cell_type": "markdown",
   "metadata": {},
   "source": [
    "# Train and eval models"
   ]
  },
  {
   "cell_type": "code",
   "execution_count": 166,
   "metadata": {},
   "outputs": [],
   "source": [
    "class CIPS:\n",
    "    \"\"\"\n",
    "    calculate cips\n",
    "    \"\"\"\n",
    "    def __init__(self, df: pd.DataFrame, target_df: pd.Series, preds1: np.array, preds2: np.array, lmbda: int=10):\n",
    "        self.df = df\n",
    "        self.target_df = target_df\n",
    "        self.preds1 = preds1\n",
    "        self.preds2 = preds2\n",
    "        self.lmbda = lmbda\n",
    "        self.std = None\n",
    "        self.pi_0 = None\n",
    "        self.pi_1 = None\n",
    "\n",
    "    def get_pi_0(self):\n",
    "        np.random.seed(1)\n",
    "        np.random.normal(self.df.coeff_sum0)\n",
    "        new_mean = self.df.coeff_sum0 - self.df.coeff_sum1\n",
    "        self.std = np.sqrt(self.df.g0**2 + self.df.g1**2)\n",
    "        self.pi_0 = 1 - norm.cdf(new_mean / self.std)\n",
    "\n",
    "    def get_pi_1(self):\n",
    "        new_mean= self.preds1 - self.preds2\n",
    "        self.pi_1 = 1 - norm.cdf(new_mean / self.std)\n",
    "\n",
    "    def get_cips(self) -> float:\n",
    "        return 1 / len(self.df) * (self.target_df.values * np.minimum(np.nan_to_num(self.pi_1 / self.pi_0), self.lmbda)).sum()\n"
   ]
  },
  {
   "cell_type": "code",
   "execution_count": 167,
   "metadata": {},
   "outputs": [],
   "source": [
    "def find_best_cips_pipe(model: object,\n",
    "                        params: list,\n",
    "                        train_X: pd.DataFrame,\n",
    "                        train_y: pd.Series, \n",
    "                        val_X: pd.DataFrame, \n",
    "                        val_X2: pd.DataFrame, \n",
    "                        val_y: pd.Series, \n",
    "                        features: list):\n",
    "    result = {}\n",
    "    for reg in params:\n",
    "        model_ = model(C=reg)\n",
    "        model_.fit(train_X[features], train_y)\n",
    "        preds_val = logit(model_.predict_proba(val_X[features])[:, 1])\n",
    "        preds_val2 = logit(model_.predict_proba(val_X2[features])[:, 1])\n",
    "\n",
    "        val_cips = CIPS(val_X, val_y, preds_val, preds_val2)\n",
    "        val_cips.get_pi_0()\n",
    "        val_cips.get_pi_1()\n",
    "        cips_res = val_cips.get_cips()\n",
    "        result[reg] = cips_res\n",
    "        logging.info(f\"current C={reg} and cips={cips_res}\")\n",
    "    return result\n"
   ]
  },
  {
   "cell_type": "code",
   "execution_count": 168,
   "metadata": {},
   "outputs": [
    {
     "data": {
      "text/plain": [
       "5"
      ]
     },
     "execution_count": 168,
     "metadata": {},
     "output_type": "execute_result"
    }
   ],
   "source": [
    "model = LogisticRegression\n",
    "model = partial(model, random_state=1, n_jobs=-1, max_iter=300)\n",
    "\n",
    "params = np.arange(0.5, 1.4, 0.2)\n",
    "len(params)"
   ]
  },
  {
   "cell_type": "code",
   "execution_count": 169,
   "metadata": {},
   "outputs": [
    {
     "name": "stderr",
     "output_type": "stream",
     "text": [
      "/var/folders/5_/9xp3hzbd27l44jhk93xsv0680000gn/T/ipykernel_75501/2679669734.py:26: RuntimeWarning: divide by zero encountered in true_divide\n",
      "  return 1 / len(self.df) * (self.target_df.values * np.minimum(np.nan_to_num(self.pi_1 / self.pi_0), self.lmbda)).sum()\n",
      "/var/folders/5_/9xp3hzbd27l44jhk93xsv0680000gn/T/ipykernel_75501/2679669734.py:26: RuntimeWarning: invalid value encountered in true_divide\n",
      "  return 1 / len(self.df) * (self.target_df.values * np.minimum(np.nan_to_num(self.pi_1 / self.pi_0), self.lmbda)).sum()\n",
      "2021-12-11 18:42:06,562 current C=0.5 and cips=0.22150944434601125\n",
      "/var/folders/5_/9xp3hzbd27l44jhk93xsv0680000gn/T/ipykernel_75501/2679669734.py:26: RuntimeWarning: divide by zero encountered in true_divide\n",
      "  return 1 / len(self.df) * (self.target_df.values * np.minimum(np.nan_to_num(self.pi_1 / self.pi_0), self.lmbda)).sum()\n",
      "/var/folders/5_/9xp3hzbd27l44jhk93xsv0680000gn/T/ipykernel_75501/2679669734.py:26: RuntimeWarning: invalid value encountered in true_divide\n",
      "  return 1 / len(self.df) * (self.target_df.values * np.minimum(np.nan_to_num(self.pi_1 / self.pi_0), self.lmbda)).sum()\n",
      "2021-12-11 18:45:53,904 current C=0.7 and cips=0.22113744956420558\n",
      "/var/folders/5_/9xp3hzbd27l44jhk93xsv0680000gn/T/ipykernel_75501/2679669734.py:26: RuntimeWarning: divide by zero encountered in true_divide\n",
      "  return 1 / len(self.df) * (self.target_df.values * np.minimum(np.nan_to_num(self.pi_1 / self.pi_0), self.lmbda)).sum()\n",
      "/var/folders/5_/9xp3hzbd27l44jhk93xsv0680000gn/T/ipykernel_75501/2679669734.py:26: RuntimeWarning: invalid value encountered in true_divide\n",
      "  return 1 / len(self.df) * (self.target_df.values * np.minimum(np.nan_to_num(self.pi_1 / self.pi_0), self.lmbda)).sum()\n",
      "2021-12-11 18:49:44,687 current C=0.8999999999999999 and cips=0.2208085165486101\n",
      "/var/folders/5_/9xp3hzbd27l44jhk93xsv0680000gn/T/ipykernel_75501/2679669734.py:26: RuntimeWarning: divide by zero encountered in true_divide\n",
      "  return 1 / len(self.df) * (self.target_df.values * np.minimum(np.nan_to_num(self.pi_1 / self.pi_0), self.lmbda)).sum()\n",
      "/var/folders/5_/9xp3hzbd27l44jhk93xsv0680000gn/T/ipykernel_75501/2679669734.py:26: RuntimeWarning: invalid value encountered in true_divide\n",
      "  return 1 / len(self.df) * (self.target_df.values * np.minimum(np.nan_to_num(self.pi_1 / self.pi_0), self.lmbda)).sum()\n",
      "2021-12-11 18:53:57,917 current C=1.0999999999999999 and cips=0.22068759264967383\n",
      "/var/folders/5_/9xp3hzbd27l44jhk93xsv0680000gn/T/ipykernel_75501/2679669734.py:26: RuntimeWarning: divide by zero encountered in true_divide\n",
      "  return 1 / len(self.df) * (self.target_df.values * np.minimum(np.nan_to_num(self.pi_1 / self.pi_0), self.lmbda)).sum()\n",
      "/var/folders/5_/9xp3hzbd27l44jhk93xsv0680000gn/T/ipykernel_75501/2679669734.py:26: RuntimeWarning: invalid value encountered in true_divide\n",
      "  return 1 / len(self.df) * (self.target_df.values * np.minimum(np.nan_to_num(self.pi_1 / self.pi_0), self.lmbda)).sum()\n",
      "2021-12-11 18:58:12,595 current C=1.2999999999999998 and cips=0.22043636590354704\n"
     ]
    }
   ],
   "source": [
    "results = find_best_cips_pipe(model=model,\n",
    "                              params=params,\n",
    "                              train_X=X_y_validation['train_x'],\n",
    "                              train_y=X_y_validation['train_y'], \n",
    "                              val_X=X_y_validation['val1_x'], \n",
    "                              val_X2=X_y_validation['val2_x'], \n",
    "                              val_y=X_y_validation['val_y'], \n",
    "                              features=features)"
   ]
  },
  {
   "cell_type": "code",
   "execution_count": 174,
   "metadata": {},
   "outputs": [
    {
     "data": {
      "text/plain": [
       "[(0.5, 0.22150944434601125),\n",
       " (0.7, 0.22113744956420558),\n",
       " (0.8999999999999999, 0.2208085165486101),\n",
       " (1.0999999999999999, 0.22068759264967383),\n",
       " (1.2999999999999998, 0.22043636590354704)]"
      ]
     },
     "execution_count": 174,
     "metadata": {},
     "output_type": "execute_result"
    }
   ],
   "source": [
    "sorted(results.items(), key=lambda x: -x[1])[:10]"
   ]
  },
  {
   "cell_type": "code",
   "execution_count": 175,
   "metadata": {},
   "outputs": [
    {
     "data": {
      "text/plain": [
       "0.5"
      ]
     },
     "execution_count": 175,
     "metadata": {},
     "output_type": "execute_result"
    }
   ],
   "source": [
    "best_c = sorted(results.items(), key=lambda x: -x[1])[0][0]\n",
    "best_c"
   ]
  },
  {
   "cell_type": "code",
   "execution_count": 176,
   "metadata": {},
   "outputs": [
    {
     "name": "stderr",
     "output_type": "stream",
     "text": [
      "/var/folders/5_/9xp3hzbd27l44jhk93xsv0680000gn/T/ipykernel_75501/2679669734.py:26: RuntimeWarning: divide by zero encountered in true_divide\n",
      "  return 1 / len(self.df) * (self.target_df.values * np.minimum(np.nan_to_num(self.pi_1 / self.pi_0), self.lmbda)).sum()\n",
      "/var/folders/5_/9xp3hzbd27l44jhk93xsv0680000gn/T/ipykernel_75501/2679669734.py:26: RuntimeWarning: invalid value encountered in true_divide\n",
      "  return 1 / len(self.df) * (self.target_df.values * np.minimum(np.nan_to_num(self.pi_1 / self.pi_0), self.lmbda)).sum()\n"
     ]
    },
    {
     "data": {
      "text/plain": [
       "0.19616456588430053"
      ]
     },
     "execution_count": 176,
     "metadata": {},
     "output_type": "execute_result"
    }
   ],
   "source": [
    "model_ = LogisticRegression(random_state=1, n_jobs=-1, max_iter=300, C=best_c)\n",
    "model_.fit(X_y_test['train_x'][features], X_y_test['train_y'])\n",
    "preds_test = logit(model_.predict_proba(X_y_test['val1_x'][features])[:, 1])\n",
    "preds_test2 = logit(model_.predict_proba(X_y_test['val2_x'][features])[:, 1])\n",
    "\n",
    "test_cips = CIPS(X_y_test['val1_x'], X_y_test['val_y'], preds_test, preds_test2)\n",
    "test_cips.get_pi_0()\n",
    "test_cips.get_pi_1()\n",
    "test_cips.get_cips()"
   ]
  },
  {
   "cell_type": "code",
   "execution_count": null,
   "metadata": {},
   "outputs": [],
   "source": []
  }
 ],
 "metadata": {
  "interpreter": {
   "hash": "c573e46ebead58db36569680cc0ab268342f230bf4121c93a3b85d9337ecfb20"
  },
  "kernelspec": {
   "display_name": "csc_recsys",
   "language": "python",
   "name": "python3"
  },
  "language_info": {
   "codemirror_mode": {
    "name": "ipython",
    "version": 3
   },
   "file_extension": ".py",
   "mimetype": "text/x-python",
   "name": "python",
   "nbconvert_exporter": "python",
   "pygments_lexer": "ipython3",
   "version": "3.9.7"
  },
  "toc": {
   "base_numbering": 1,
   "nav_menu": {},
   "number_sections": true,
   "sideBar": true,
   "skip_h1_title": false,
   "title_cell": "Table of Contents",
   "title_sidebar": "Contents",
   "toc_cell": false,
   "toc_position": {},
   "toc_section_display": true,
   "toc_window_display": true
  },
  "varInspector": {
   "cols": {
    "lenName": 16,
    "lenType": 16,
    "lenVar": 40
   },
   "kernels_config": {
    "python": {
     "delete_cmd_postfix": "",
     "delete_cmd_prefix": "del ",
     "library": "var_list.py",
     "varRefreshCmd": "print(var_dic_list())"
    },
    "r": {
     "delete_cmd_postfix": ") ",
     "delete_cmd_prefix": "rm(",
     "library": "var_list.r",
     "varRefreshCmd": "cat(var_dic_list()) "
    }
   },
   "types_to_exclude": [
    "module",
    "function",
    "builtin_function_or_method",
    "instance",
    "_Feature"
   ],
   "window_display": false
  }
 },
 "nbformat": 4,
 "nbformat_minor": 1
}
