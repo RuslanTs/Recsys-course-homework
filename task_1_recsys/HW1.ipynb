{
 "cells": [
  {
   "cell_type": "markdown",
   "metadata": {},
   "source": [
    "# Предсказание вероятности клика на банер\n",
    "\n",
    "* Модель logreg с фичами взаимодействий и target encoding\n",
    "* best_params = {'params': {'C': 0.5, 'max_iter': 300, 'random_state': 1}\n",
    "* test log_loss with best params =  0.13998072945658324"
   ]
  },
  {
   "cell_type": "code",
   "execution_count": 1,
   "metadata": {},
   "outputs": [],
   "source": [
    "import pandas as pd"
   ]
  },
  {
   "cell_type": "code",
   "execution_count": 37,
   "metadata": {},
   "outputs": [],
   "source": [
    "from dateutil import relativedelta\n",
    "from typing import List\n",
    "from sklearn.metrics import log_loss\n",
    "\n",
    "from sklearn.linear_model import LogisticRegression\n",
    "import numpy as np\n",
    "import category_encoders as ce\n",
    "import logging\n",
    "from sklearn.preprocessing import StandardScaler\n",
    "from sklearn.model_selection import ParameterGrid\n",
    "import matplotlib.pyplot as plt\n",
    "from tqdm import tqdm\n",
    "logging.basicConfig(format='%(asctime)s %(message)s',\n",
    "                    level=logging.DEBUG)"
   ]
  },
  {
   "cell_type": "code",
   "execution_count": 4,
   "metadata": {},
   "outputs": [],
   "source": [
    "columns = ['date_time',\n",
    " 'zone_id',\n",
    " 'campaign_clicks',\n",
    " 'os_id',\n",
    " 'banner_id',\n",
    " 'impressions',\n",
    " 'country_id',\n",
    " 'clicks']"
   ]
  },
  {
   "cell_type": "code",
   "execution_count": 5,
   "metadata": {
    "pycharm": {
     "name": "#%%\n"
    }
   },
   "outputs": [
    {
     "data": {
      "text/html": [
       "<div>\n",
       "<style scoped>\n",
       "    .dataframe tbody tr th:only-of-type {\n",
       "        vertical-align: middle;\n",
       "    }\n",
       "\n",
       "    .dataframe tbody tr th {\n",
       "        vertical-align: top;\n",
       "    }\n",
       "\n",
       "    .dataframe thead th {\n",
       "        text-align: right;\n",
       "    }\n",
       "</style>\n",
       "<table border=\"1\" class=\"dataframe\">\n",
       "  <thead>\n",
       "    <tr style=\"text-align: right;\">\n",
       "      <th></th>\n",
       "      <th>date_time</th>\n",
       "      <th>zone_id</th>\n",
       "      <th>banner_id</th>\n",
       "      <th>campaign_clicks</th>\n",
       "      <th>os_id</th>\n",
       "      <th>country_id</th>\n",
       "      <th>impressions</th>\n",
       "      <th>clicks</th>\n",
       "    </tr>\n",
       "  </thead>\n",
       "  <tbody>\n",
       "    <tr>\n",
       "      <th>0</th>\n",
       "      <td>2021-09-27 00:01:30</td>\n",
       "      <td>0</td>\n",
       "      <td>0</td>\n",
       "      <td>0</td>\n",
       "      <td>0</td>\n",
       "      <td>0</td>\n",
       "      <td>1</td>\n",
       "      <td>1</td>\n",
       "    </tr>\n",
       "    <tr>\n",
       "      <th>1</th>\n",
       "      <td>2021-09-26 22:54:49</td>\n",
       "      <td>1</td>\n",
       "      <td>1</td>\n",
       "      <td>0</td>\n",
       "      <td>0</td>\n",
       "      <td>1</td>\n",
       "      <td>1</td>\n",
       "      <td>1</td>\n",
       "    </tr>\n",
       "    <tr>\n",
       "      <th>2</th>\n",
       "      <td>2021-09-26 23:57:20</td>\n",
       "      <td>2</td>\n",
       "      <td>2</td>\n",
       "      <td>3</td>\n",
       "      <td>0</td>\n",
       "      <td>0</td>\n",
       "      <td>1</td>\n",
       "      <td>1</td>\n",
       "    </tr>\n",
       "    <tr>\n",
       "      <th>3</th>\n",
       "      <td>2021-09-27 00:04:30</td>\n",
       "      <td>3</td>\n",
       "      <td>3</td>\n",
       "      <td>0</td>\n",
       "      <td>1</td>\n",
       "      <td>1</td>\n",
       "      <td>1</td>\n",
       "      <td>1</td>\n",
       "    </tr>\n",
       "    <tr>\n",
       "      <th>4</th>\n",
       "      <td>2021-09-27 00:06:21</td>\n",
       "      <td>4</td>\n",
       "      <td>4</td>\n",
       "      <td>0</td>\n",
       "      <td>1</td>\n",
       "      <td>0</td>\n",
       "      <td>1</td>\n",
       "      <td>1</td>\n",
       "    </tr>\n",
       "  </tbody>\n",
       "</table>\n",
       "</div>"
      ],
      "text/plain": [
       "            date_time  zone_id  banner_id  campaign_clicks  os_id  country_id  \\\n",
       "0 2021-09-27 00:01:30        0          0                0      0           0   \n",
       "1 2021-09-26 22:54:49        1          1                0      0           1   \n",
       "2 2021-09-26 23:57:20        2          2                3      0           0   \n",
       "3 2021-09-27 00:04:30        3          3                0      1           1   \n",
       "4 2021-09-27 00:06:21        4          4                0      1           0   \n",
       "\n",
       "   impressions  clicks  \n",
       "0            1       1  \n",
       "1            1       1  \n",
       "2            1       1  \n",
       "3            1       1  \n",
       "4            1       1  "
      ]
     },
     "execution_count": 5,
     "metadata": {},
     "output_type": "execute_result"
    }
   ],
   "source": [
    "data = pd.read_csv('../data/data.csv',\n",
    "                   parse_dates=['date_time']\n",
    "                   , usecols=columns)\n",
    "data.head()"
   ]
  },
  {
   "cell_type": "markdown",
   "metadata": {},
   "source": [
    "# EDA"
   ]
  },
  {
   "cell_type": "code",
   "execution_count": 6,
   "metadata": {},
   "outputs": [
    {
     "data": {
      "text/plain": [
       "(Timestamp('2021-09-01 00:02:49'), Timestamp('2021-10-02 23:59:59'))"
      ]
     },
     "execution_count": 6,
     "metadata": {},
     "output_type": "execute_result"
    }
   ],
   "source": [
    "data['date_time'].min(), data['date_time'].max()"
   ]
  },
  {
   "cell_type": "code",
   "execution_count": 7,
   "metadata": {},
   "outputs": [],
   "source": [
    "all_dates = sorted(data.date_time.dt.date.unique())"
   ]
  },
  {
   "cell_type": "code",
   "execution_count": 8,
   "metadata": {},
   "outputs": [
    {
     "data": {
      "text/plain": [
       "[datetime.date(2021, 9, 1),\n",
       " datetime.date(2021, 9, 26),\n",
       " datetime.date(2021, 9, 27),\n",
       " datetime.date(2021, 9, 28),\n",
       " datetime.date(2021, 9, 29),\n",
       " datetime.date(2021, 9, 30),\n",
       " datetime.date(2021, 10, 1),\n",
       " datetime.date(2021, 10, 2)]"
      ]
     },
     "execution_count": 8,
     "metadata": {},
     "output_type": "execute_result"
    }
   ],
   "source": [
    "all_dates"
   ]
  },
  {
   "cell_type": "code",
   "execution_count": 9,
   "metadata": {},
   "outputs": [
    {
     "data": {
      "text/html": [
       "<div>\n",
       "<style scoped>\n",
       "    .dataframe tbody tr th:only-of-type {\n",
       "        vertical-align: middle;\n",
       "    }\n",
       "\n",
       "    .dataframe tbody tr th {\n",
       "        vertical-align: top;\n",
       "    }\n",
       "\n",
       "    .dataframe thead th {\n",
       "        text-align: right;\n",
       "    }\n",
       "</style>\n",
       "<table border=\"1\" class=\"dataframe\">\n",
       "  <thead>\n",
       "    <tr style=\"text-align: right;\">\n",
       "      <th></th>\n",
       "      <th>date_time</th>\n",
       "      <th>zone_id</th>\n",
       "      <th>banner_id</th>\n",
       "      <th>campaign_clicks</th>\n",
       "      <th>os_id</th>\n",
       "      <th>country_id</th>\n",
       "      <th>impressions</th>\n",
       "      <th>clicks</th>\n",
       "    </tr>\n",
       "  </thead>\n",
       "  <tbody>\n",
       "    <tr>\n",
       "      <th>1390198</th>\n",
       "      <td>2021-09-01 00:02:49</td>\n",
       "      <td>30</td>\n",
       "      <td>596</td>\n",
       "      <td>0</td>\n",
       "      <td>0</td>\n",
       "      <td>7</td>\n",
       "      <td>1</td>\n",
       "      <td>0</td>\n",
       "    </tr>\n",
       "  </tbody>\n",
       "</table>\n",
       "</div>"
      ],
      "text/plain": [
       "                  date_time  zone_id  banner_id  campaign_clicks  os_id  \\\n",
       "1390198 2021-09-01 00:02:49       30        596                0      0   \n",
       "\n",
       "         country_id  impressions  clicks  \n",
       "1390198           7            1       0  "
      ]
     },
     "execution_count": 9,
     "metadata": {},
     "output_type": "execute_result"
    }
   ],
   "source": [
    "data[data['date_time'].dt.date==all_dates[0]]"
   ]
  },
  {
   "cell_type": "code",
   "execution_count": 10,
   "metadata": {},
   "outputs": [],
   "source": [
    "data = data[data['date_time'].dt.date!=all_dates[0]]"
   ]
  },
  {
   "cell_type": "code",
   "execution_count": 11,
   "metadata": {},
   "outputs": [
    {
     "data": {
      "text/html": [
       "<div>\n",
       "<style scoped>\n",
       "    .dataframe tbody tr th:only-of-type {\n",
       "        vertical-align: middle;\n",
       "    }\n",
       "\n",
       "    .dataframe tbody tr th {\n",
       "        vertical-align: top;\n",
       "    }\n",
       "\n",
       "    .dataframe thead th {\n",
       "        text-align: right;\n",
       "    }\n",
       "</style>\n",
       "<table border=\"1\" class=\"dataframe\">\n",
       "  <thead>\n",
       "    <tr style=\"text-align: right;\">\n",
       "      <th></th>\n",
       "      <th>zone_id</th>\n",
       "      <th>banner_id</th>\n",
       "      <th>campaign_clicks</th>\n",
       "      <th>os_id</th>\n",
       "      <th>country_id</th>\n",
       "      <th>impressions</th>\n",
       "      <th>clicks</th>\n",
       "    </tr>\n",
       "  </thead>\n",
       "  <tbody>\n",
       "    <tr>\n",
       "      <th>count</th>\n",
       "      <td>1.582147e+07</td>\n",
       "      <td>1.582147e+07</td>\n",
       "      <td>1.582147e+07</td>\n",
       "      <td>1.582147e+07</td>\n",
       "      <td>1.582147e+07</td>\n",
       "      <td>15821471.0</td>\n",
       "      <td>1.582147e+07</td>\n",
       "    </tr>\n",
       "    <tr>\n",
       "      <th>mean</th>\n",
       "      <td>8.152680e+01</td>\n",
       "      <td>3.816483e+02</td>\n",
       "      <td>6.238540e-01</td>\n",
       "      <td>1.840605e+00</td>\n",
       "      <td>4.346986e+00</td>\n",
       "      <td>1.0</td>\n",
       "      <td>2.668835e-02</td>\n",
       "    </tr>\n",
       "    <tr>\n",
       "      <th>std</th>\n",
       "      <td>1.632448e+02</td>\n",
       "      <td>3.959386e+02</td>\n",
       "      <td>9.249152e+00</td>\n",
       "      <td>1.530005e+00</td>\n",
       "      <td>4.317701e+00</td>\n",
       "      <td>0.0</td>\n",
       "      <td>1.611710e-01</td>\n",
       "    </tr>\n",
       "    <tr>\n",
       "      <th>min</th>\n",
       "      <td>0.000000e+00</td>\n",
       "      <td>0.000000e+00</td>\n",
       "      <td>0.000000e+00</td>\n",
       "      <td>0.000000e+00</td>\n",
       "      <td>0.000000e+00</td>\n",
       "      <td>1.0</td>\n",
       "      <td>0.000000e+00</td>\n",
       "    </tr>\n",
       "    <tr>\n",
       "      <th>25%</th>\n",
       "      <td>1.400000e+01</td>\n",
       "      <td>5.200000e+01</td>\n",
       "      <td>0.000000e+00</td>\n",
       "      <td>1.000000e+00</td>\n",
       "      <td>0.000000e+00</td>\n",
       "      <td>1.0</td>\n",
       "      <td>0.000000e+00</td>\n",
       "    </tr>\n",
       "    <tr>\n",
       "      <th>50%</th>\n",
       "      <td>1.900000e+01</td>\n",
       "      <td>2.170000e+02</td>\n",
       "      <td>0.000000e+00</td>\n",
       "      <td>2.000000e+00</td>\n",
       "      <td>4.000000e+00</td>\n",
       "      <td>1.0</td>\n",
       "      <td>0.000000e+00</td>\n",
       "    </tr>\n",
       "    <tr>\n",
       "      <th>75%</th>\n",
       "      <td>6.000000e+01</td>\n",
       "      <td>6.110000e+02</td>\n",
       "      <td>0.000000e+00</td>\n",
       "      <td>3.000000e+00</td>\n",
       "      <td>7.000000e+00</td>\n",
       "      <td>1.0</td>\n",
       "      <td>0.000000e+00</td>\n",
       "    </tr>\n",
       "    <tr>\n",
       "      <th>max</th>\n",
       "      <td>3.443000e+03</td>\n",
       "      <td>1.632000e+03</td>\n",
       "      <td>8.290000e+02</td>\n",
       "      <td>1.000000e+01</td>\n",
       "      <td>1.600000e+01</td>\n",
       "      <td>1.0</td>\n",
       "      <td>1.000000e+00</td>\n",
       "    </tr>\n",
       "  </tbody>\n",
       "</table>\n",
       "</div>"
      ],
      "text/plain": [
       "            zone_id     banner_id  campaign_clicks         os_id  \\\n",
       "count  1.582147e+07  1.582147e+07     1.582147e+07  1.582147e+07   \n",
       "mean   8.152680e+01  3.816483e+02     6.238540e-01  1.840605e+00   \n",
       "std    1.632448e+02  3.959386e+02     9.249152e+00  1.530005e+00   \n",
       "min    0.000000e+00  0.000000e+00     0.000000e+00  0.000000e+00   \n",
       "25%    1.400000e+01  5.200000e+01     0.000000e+00  1.000000e+00   \n",
       "50%    1.900000e+01  2.170000e+02     0.000000e+00  2.000000e+00   \n",
       "75%    6.000000e+01  6.110000e+02     0.000000e+00  3.000000e+00   \n",
       "max    3.443000e+03  1.632000e+03     8.290000e+02  1.000000e+01   \n",
       "\n",
       "         country_id  impressions        clicks  \n",
       "count  1.582147e+07   15821471.0  1.582147e+07  \n",
       "mean   4.346986e+00          1.0  2.668835e-02  \n",
       "std    4.317701e+00          0.0  1.611710e-01  \n",
       "min    0.000000e+00          1.0  0.000000e+00  \n",
       "25%    0.000000e+00          1.0  0.000000e+00  \n",
       "50%    4.000000e+00          1.0  0.000000e+00  \n",
       "75%    7.000000e+00          1.0  0.000000e+00  \n",
       "max    1.600000e+01          1.0  1.000000e+00  "
      ]
     },
     "execution_count": 11,
     "metadata": {},
     "output_type": "execute_result"
    }
   ],
   "source": [
    "data.describe()"
   ]
  },
  {
   "cell_type": "code",
   "execution_count": 12,
   "metadata": {},
   "outputs": [
    {
     "data": {
      "text/plain": [
       "zone_id            3444\n",
       "campaign_clicks     822\n",
       "os_id                11\n",
       "country_id           17\n",
       "dtype: int64"
      ]
     },
     "execution_count": 12,
     "metadata": {},
     "output_type": "execute_result"
    }
   ],
   "source": [
    "data[['zone_id', 'campaign_clicks', 'os_id', 'country_id']].nunique()"
   ]
  },
  {
   "cell_type": "code",
   "execution_count": 13,
   "metadata": {},
   "outputs": [],
   "source": [
    "# bcs of const value\n",
    "data.drop(columns=['impressions'], inplace=True)"
   ]
  },
  {
   "cell_type": "code",
   "execution_count": 14,
   "metadata": {},
   "outputs": [
    {
     "name": "stdout",
     "output_type": "stream",
     "text": [
      "<class 'pandas.core.frame.DataFrame'>\n",
      "Int64Index: 15821471 entries, 0 to 15821471\n",
      "Data columns (total 7 columns):\n",
      " #   Column           Dtype         \n",
      "---  ------           -----         \n",
      " 0   date_time        datetime64[ns]\n",
      " 1   zone_id          int64         \n",
      " 2   banner_id        int64         \n",
      " 3   campaign_clicks  int64         \n",
      " 4   os_id            int64         \n",
      " 5   country_id       int64         \n",
      " 6   clicks           int64         \n",
      "dtypes: datetime64[ns](1), int64(6)\n",
      "memory usage: 965.7 MB\n"
     ]
    }
   ],
   "source": [
    "data.info()"
   ]
  },
  {
   "cell_type": "code",
   "execution_count": 15,
   "metadata": {},
   "outputs": [],
   "source": [
    "data['os_id'] = data['os_id'].astype(np.int8)\n",
    "data['country_id'] = data['country_id'].astype(np.int8)\n",
    "data['banner_id'] = data['banner_id'].astype(np.int16)\n",
    "data['zone_id'] = data['zone_id'].astype(np.int16)\n",
    "data['campaign_clicks'] = data['campaign_clicks'].astype(np.int16)\n",
    "data['clicks'] = data['clicks'].astype(np.int8)"
   ]
  },
  {
   "cell_type": "code",
   "execution_count": 16,
   "metadata": {},
   "outputs": [
    {
     "name": "stdout",
     "output_type": "stream",
     "text": [
      "<class 'pandas.core.frame.DataFrame'>\n",
      "Int64Index: 15821471 entries, 0 to 15821471\n",
      "Data columns (total 7 columns):\n",
      " #   Column           Dtype         \n",
      "---  ------           -----         \n",
      " 0   date_time        datetime64[ns]\n",
      " 1   zone_id          int16         \n",
      " 2   banner_id        int16         \n",
      " 3   campaign_clicks  int16         \n",
      " 4   os_id            int8          \n",
      " 5   country_id       int8          \n",
      " 6   clicks           int8          \n",
      "dtypes: datetime64[ns](1), int16(3), int8(3)\n",
      "memory usage: 377.2 MB\n"
     ]
    }
   ],
   "source": [
    "data.info()"
   ]
  },
  {
   "cell_type": "code",
   "execution_count": 17,
   "metadata": {},
   "outputs": [],
   "source": [
    "test_mask = all_dates[-1]\n",
    "test = data[data.date_time.dt.date==test_mask]\n",
    "\n",
    "train_mask = all_dates[-2]\n",
    "train = data[data.date_time.dt.date==train_mask]"
   ]
  },
  {
   "cell_type": "code",
   "execution_count": 18,
   "metadata": {},
   "outputs": [
    {
     "data": {
      "text/plain": [
       "[datetime.date(2021, 10, 1)]"
      ]
     },
     "execution_count": 18,
     "metadata": {},
     "output_type": "execute_result"
    }
   ],
   "source": [
    "sorted(train.date_time.dt.date.unique())"
   ]
  },
  {
   "cell_type": "code",
   "execution_count": 19,
   "metadata": {},
   "outputs": [
    {
     "data": {
      "text/plain": [
       "Timestamp('2021-10-02 00:00:00')"
      ]
     },
     "execution_count": 19,
     "metadata": {},
     "output_type": "execute_result"
    }
   ],
   "source": [
    "test.date_time.min()"
   ]
  },
  {
   "cell_type": "code",
   "execution_count": 20,
   "metadata": {},
   "outputs": [
    {
     "data": {
      "text/plain": [
       "1080"
      ]
     },
     "execution_count": 20,
     "metadata": {},
     "output_type": "execute_result"
    }
   ],
   "source": [
    "train.banner_id.nunique()"
   ]
  },
  {
   "cell_type": "code",
   "execution_count": 21,
   "metadata": {},
   "outputs": [
    {
     "data": {
      "text/plain": [
       "(800, 914, 0.87527352297593)"
      ]
     },
     "execution_count": 21,
     "metadata": {},
     "output_type": "execute_result"
    }
   ],
   "source": [
    "# часть банеров из теста не присутствует в трейне, но 88% совпадает\n",
    "len(set(test.banner_id).intersection(set(train.banner_id))), test.banner_id.nunique(), len(set(test.banner_id.unique()).intersection(set(train.banner_id.unique())))/test.banner_id.nunique()"
   ]
  },
  {
   "cell_type": "markdown",
   "metadata": {},
   "source": [
    "# Process data"
   ]
  },
  {
   "cell_type": "code",
   "execution_count": 22,
   "metadata": {},
   "outputs": [],
   "source": [
    "cat_cols = ['zone_id', 'banner_id', 'os_id', 'country_id']\n",
    "for col in cat_cols:\n",
    "    data[col] = data[col].astype(str)"
   ]
  },
  {
   "cell_type": "code",
   "execution_count": null,
   "metadata": {},
   "outputs": [],
   "source": []
  },
  {
   "cell_type": "code",
   "execution_count": 23,
   "metadata": {
    "scrolled": true
   },
   "outputs": [],
   "source": [
    "\n",
    "\n",
    "def get_feature_zone_id_country_id(df:pd.DataFrame) -> pd.DataFrame:\n",
    "    return df['zone_id'] + df['country_id']\n",
    "\n",
    "def get_feature_zone_id_os_id(df:pd.DataFrame) -> pd.DataFrame:\n",
    "    return df['zone_id'] + df['os_id']\n",
    "\n",
    "def get_feature_os_id_country_id(df:pd.DataFrame) -> pd.DataFrame:\n",
    "    return df['os_id'] + df['country_id']\n",
    "\n",
    "def get_feature_os_id_hour(df:pd.DataFrame) -> pd.DataFrame:\n",
    "    return df['os_id'] + df['hour']\n",
    "\n",
    "def get_feature_os_id_hour_country_id(df:pd.DataFrame) -> pd.DataFrame:\n",
    "    return df['os_id'] + df['hour'] + df['country_id']\n",
    "\n",
    "def get_feature_os_id_zone_id_country_id(df:pd.DataFrame) -> pd.DataFrame:\n",
    "    return df['os_id'] + df['zone_id'] + df['country_id']\n",
    "\n",
    "def get_feature_hour_zone_id_country_id(df:pd.DataFrame) -> pd.DataFrame:\n",
    "    return df['zone_id'] + df['hour'] + df['country_id']\n",
    "\n",
    "def get_feature_banner_id_country_id(df:pd.DataFrame) -> pd.DataFrame:\n",
    "    return df['banner_id'] + df['country_id']\n",
    "\n",
    "def get_feature_banner_id_zone_id(df:pd.DataFrame) -> pd.DataFrame:\n",
    "    return df['banner_id'] + df['zone_id']\n",
    "\n",
    "def get_feature_banner_id_os_id(df:pd.DataFrame) -> pd.DataFrame:\n",
    "    return df['banner_id'] + df['os_id']\n",
    "\n",
    "def get_feature_banner_id_hour(df:pd.DataFrame) -> pd.DataFrame:\n",
    "    return df['banner_id'] + df['hour']\n",
    "\n",
    "def get_transform_campaign_clicks(df:pd.DataFrame) -> pd.DataFrame:\n",
    "    return np.where(df.campaign_clicks==0, '0',\n",
    "                 np.where(df.campaign_clicks>100, '>100',\n",
    "                     np.where(df.campaign_clicks>50, '>50<=100',\n",
    "                         np.where(df.campaign_clicks>10, '>10<=50', '>0<=10'))))\n",
    "\n",
    "def get_feature_os_id_transform_campaign_clicks(df:pd.DataFrame) -> pd.DataFrame:\n",
    "    return df['os_id'] + df['transform_campaign_clicks']\n",
    "\n",
    "def get_feature_zone_id_transform_campaign_clicks(df:pd.DataFrame) -> pd.DataFrame:\n",
    "    return df['zone_id'] + df['transform_campaign_clicks']\n",
    "\n",
    "def get_feature_country_id_transform_campaign_clicks(df:pd.DataFrame) -> pd.DataFrame:\n",
    "    return df['country_id'] + df['transform_campaign_clicks']\n",
    "\n",
    "def get_feature_hour_transform_campaign_clicks(df:pd.DataFrame) -> pd.DataFrame:\n",
    "    return df['hour'] + df['transform_campaign_clicks']\n",
    "\n",
    "def get_hour(df: pd.DataFrame) -> pd.DataFrame:\n",
    "    return df.date_time.dt.hour.astype(str)\n",
    "\n",
    "def feature_preparation_pipeline(df: pd.DataFrame) -> pd.DataFrame:\n",
    "    df['hour'] = get_hour(df)\n",
    "    df['zone_id_country_id'] = get_feature_zone_id_os_id(df)\n",
    "    df['zone_id_os_id'] = get_feature_zone_id_country_id(df)\n",
    "    df['os_id_country_id'] = get_feature_os_id_country_id(df)\n",
    "    df['os_id_hour'] = get_feature_os_id_hour(df)\n",
    "    df['os_id_hour_country_id'] = get_feature_os_id_hour_country_id(df)\n",
    "    df['os_id_zone_id_country_id'] = get_feature_os_id_zone_id_country_id(df)\n",
    "    df['hour_zone_id_country_id'] = get_feature_hour_zone_id_country_id(df)\n",
    "    df['banner_id_country_id'] = get_feature_banner_id_country_id(df)\n",
    "    df['banner_id_zone_id'] = get_feature_banner_id_zone_id(df)\n",
    "    df['banner_id_os_id'] = get_feature_banner_id_os_id(df)\n",
    "    df['banner_id_os_hour'] = get_feature_banner_id_hour(df)\n",
    "    df['transform_campaign_clicks'] = get_transform_campaign_clicks(df)\n",
    "    df['os_id_transform_campaign_clicks'] = get_feature_os_id_transform_campaign_clicks(df)\n",
    "    df['zone_id_transform_campaign_clicks'] = get_feature_zone_id_transform_campaign_clicks(df)\n",
    "    df['country_id_transform_campaign_clicks'] = get_feature_country_id_transform_campaign_clicks(df)\n",
    "    df['hour_transform_campaign_clicks'] = get_feature_hour_transform_campaign_clicks(df)\n",
    "    return df\n"
   ]
  },
  {
   "cell_type": "code",
   "execution_count": 24,
   "metadata": {
    "code_folding": []
   },
   "outputs": [
    {
     "name": "stdout",
     "output_type": "stream",
     "text": [
      "CPU times: user 43.9 s, sys: 27.1 s, total: 1min 10s\n",
      "Wall time: 1min 27s\n"
     ]
    },
    {
     "data": {
      "text/plain": [
       "Index(['date_time', 'zone_id', 'banner_id', 'campaign_clicks', 'os_id',\n",
       "       'country_id', 'clicks', 'hour', 'zone_id_country_id', 'zone_id_os_id',\n",
       "       'os_id_country_id', 'os_id_hour', 'os_id_hour_country_id',\n",
       "       'os_id_zone_id_country_id', 'hour_zone_id_country_id',\n",
       "       'banner_id_country_id', 'banner_id_zone_id', 'banner_id_os_id',\n",
       "       'banner_id_os_hour', 'transform_campaign_clicks',\n",
       "       'os_id_transform_campaign_clicks', 'zone_id_transform_campaign_clicks',\n",
       "       'country_id_transform_campaign_clicks',\n",
       "       'hour_transform_campaign_clicks'],\n",
       "      dtype='object')"
      ]
     },
     "execution_count": 24,
     "metadata": {},
     "output_type": "execute_result"
    }
   ],
   "source": [
    "%%time\n",
    "data = feature_preparation_pipeline(data)\n",
    "data.columns"
   ]
  },
  {
   "cell_type": "code",
   "execution_count": 25,
   "metadata": {},
   "outputs": [
    {
     "data": {
      "text/plain": [
       "[datetime.date(2021, 9, 1),\n",
       " datetime.date(2021, 9, 26),\n",
       " datetime.date(2021, 9, 27),\n",
       " datetime.date(2021, 9, 28),\n",
       " datetime.date(2021, 9, 29),\n",
       " datetime.date(2021, 9, 30),\n",
       " datetime.date(2021, 10, 1),\n",
       " datetime.date(2021, 10, 2)]"
      ]
     },
     "execution_count": 25,
     "metadata": {},
     "output_type": "execute_result"
    }
   ],
   "source": [
    "all_dates"
   ]
  },
  {
   "cell_type": "code",
   "execution_count": 26,
   "metadata": {},
   "outputs": [],
   "source": [
    "features = ['zone_id', 'campaign_clicks', 'os_id', 'banner_id',\n",
    "           'country_id', 'zone_id_country_id', 'zone_id_os_id',\n",
    "           'os_id_country_id', 'hour', 'os_id_hour',\n",
    "           'os_id_hour_country_id', 'os_id_zone_id_country_id',\n",
    "           'hour_zone_id_country_id', 'banner_id_country_id', 'banner_id_zone_id',\n",
    "           'banner_id_os_id', 'banner_id_os_hour', 'transform_campaign_clicks',\n",
    "           'os_id_transform_campaign_clicks', 'zone_id_transform_campaign_clicks',\n",
    "           'country_id_transform_campaign_clicks',\n",
    "           'hour_transform_campaign_clicks']\n",
    "\n",
    "target_enc_features = ['zone_id', 'os_id', 'banner_id',\n",
    "           'country_id', 'zone_id_country_id', 'zone_id_os_id',\n",
    "           'os_id_country_id', 'hour', 'os_id_hour',\n",
    "           'os_id_hour_country_id', 'os_id_zone_id_country_id',\n",
    "           'hour_zone_id_country_id', 'banner_id_country_id', 'banner_id_zone_id',\n",
    "           'banner_id_os_id', 'banner_id_os_hour', 'transform_campaign_clicks',\n",
    "           'os_id_transform_campaign_clicks', 'zone_id_transform_campaign_clicks',\n",
    "           'country_id_transform_campaign_clicks',\n",
    "           'hour_transform_campaign_clicks']\n"
   ]
  },
  {
   "cell_type": "code",
   "execution_count": 27,
   "metadata": {},
   "outputs": [],
   "source": [
    "def data_transformation(data: pd.DataFrame,\n",
    "                        train_date: object,\n",
    "                        predict_date: object,\n",
    "                        features: List,\n",
    "                        target_enc_features: List) -> List:\n",
    "    \n",
    "    logging.info(f'start data trasformation')\n",
    "    cat_transformer = ce.target_encoder.TargetEncoder(cols=target_enc_features)\n",
    "    ss = StandardScaler()\n",
    "    \n",
    "    tr_mask= data.date_time.dt.date==train_date\n",
    "    val_mask = data.date_time.dt.date==predict_date\n",
    "    tr_ = data[tr_mask]\n",
    "    tr_X = tr_[features]\n",
    "    tr_y = tr_['clicks']\n",
    "\n",
    "    logging.info(f'fit target encoder')\n",
    "    tr_X = cat_transformer.fit_transform(tr_X, tr_y)\n",
    "    tr_X['campaign_clicks'] = np.log(tr_X['campaign_clicks']+ 1)\n",
    "    logging.info(f'fit standard scaller')\n",
    "    tr_X['campaign_clicks'] = ss.fit_transform(tr_X)\n",
    "    logging.info(f'tr_X.shape is {tr_X.shape}')\n",
    "\n",
    "    val_ = data[val_mask]\n",
    "    val_X = val_[features]\n",
    "    val_y = val_['clicks']\n",
    "    val_X = cat_transformer.transform(val_X)\n",
    "    val_X['campaign_clicks'] = np.log(val_X['campaign_clicks'] + 1)\n",
    "    val_X['campaign_clicks'] = ss.transform(val_X)\n",
    "    logging.info(f'val_X.shape is {val_X.shape}')\n",
    "\n",
    "    \n",
    "    return [(tr_X, tr_y), (val_X, val_y)]\n"
   ]
  },
  {
   "cell_type": "code",
   "execution_count": 28,
   "metadata": {},
   "outputs": [
    {
     "name": "stderr",
     "output_type": "stream",
     "text": [
      "2021-11-05 18:49:39,895 start data trasformation\n",
      "2021-11-05 18:54:49,382 fit target encoder\n",
      "2021-11-05 19:40:41,640 fit standard scaller\n",
      "2021-11-05 19:40:44,414 tr_X.shape is (1851189, 22)\n",
      "2021-11-05 19:52:58,926 val_X.shape is (1643448, 22)\n"
     ]
    }
   ],
   "source": [
    "X_y_validation = data_transformation(data, all_dates[-3], all_dates[-2], features, target_enc_features)"
   ]
  },
  {
   "cell_type": "code",
   "execution_count": 29,
   "metadata": {},
   "outputs": [
    {
     "name": "stderr",
     "output_type": "stream",
     "text": [
      "2021-11-05 19:54:09,982 start data trasformation\n",
      "2021-11-05 19:55:44,379 fit target encoder\n",
      "2021-11-05 20:40:31,337 fit standard scaller\n",
      "2021-11-05 20:40:33,539 tr_X.shape is (1643448, 22)\n",
      "2021-11-05 20:53:33,338 val_X.shape is (2128978, 22)\n"
     ]
    }
   ],
   "source": [
    "X_y_test = data_transformation(data, all_dates[-2], all_dates[-1], features, target_enc_features)"
   ]
  },
  {
   "cell_type": "markdown",
   "metadata": {},
   "source": [
    "# Train and eval models"
   ]
  },
  {
   "cell_type": "code",
   "execution_count": 72,
   "metadata": {},
   "outputs": [],
   "source": [
    "def train_eval_model(x_y_data, model, params):\n",
    "    logging.info(f\"params={params}\")\n",
    "    model = model(**params)\n",
    "    tr_X, tr_y = x_y_data[0]\n",
    "    model.fit(tr_X, tr_y)\n",
    "    val_X, val_y = x_y_data[1]\n",
    "    tr_preds = model.predict_proba(tr_X)\n",
    "    val_preds = model.predict_proba(val_X)\n",
    "    preds_train = log_loss(tr_y, tr_preds)\n",
    "    preds_val = log_loss(val_y, val_preds)\n",
    "    logging.info(f\"train log_loss={preds_train}\")\n",
    "    logging.info(f\"val log_loss={preds_val}\")\n",
    "    importances = pd.Series(model.coef_.reshape(-1), index=tr_X.columns).sort_values(ascending=False)\n",
    "#     logging.info(f\"feature importances={importances}\")\n",
    "    return {\"params\": params, \"train_score\": preds_train, \"val_score\": preds_val}\n",
    "    "
   ]
  },
  {
   "cell_type": "code",
   "execution_count": 62,
   "metadata": {},
   "outputs": [],
   "source": [
    "params = {'C': np.arange(0.5, 6, 0.25),\n",
    "          'random_state': [1],\n",
    "          'max_iter': range(100, 1000, 200)}\n",
    "params = ParameterGrid(params)\n",
    "\n",
    "model = LogisticRegression"
   ]
  },
  {
   "cell_type": "code",
   "execution_count": 63,
   "metadata": {},
   "outputs": [
    {
     "data": {
      "text/plain": [
       "244"
      ]
     },
     "execution_count": 63,
     "metadata": {},
     "output_type": "execute_result"
    }
   ],
   "source": [
    "import gc\n",
    "gc.collect()"
   ]
  },
  {
   "cell_type": "code",
   "execution_count": 64,
   "metadata": {},
   "outputs": [
    {
     "name": "stderr",
     "output_type": "stream",
     "text": [
      "2021-11-05 23:50:42,412 params={'C': 0.5, 'max_iter': 100, 'random_state': 1}\n",
      "/Users/ruslantsygankov/studying/ITMO/csc_rec_sys/Recsys-course-homework/venv/lib/python3.8/site-packages/sklearn/linear_model/_logistic.py:814: ConvergenceWarning: lbfgs failed to converge (status=1):\n",
      "STOP: TOTAL NO. of ITERATIONS REACHED LIMIT.\n",
      "\n",
      "Increase the number of iterations (max_iter) or scale the data as shown in:\n",
      "    https://scikit-learn.org/stable/modules/preprocessing.html\n",
      "Please also refer to the documentation for alternative solver options:\n",
      "    https://scikit-learn.org/stable/modules/linear_model.html#logistic-regression\n",
      "  n_iter_i = _check_optimize_result(\n",
      "2021-11-05 23:51:05,089 train log_loss=0.13004898263909\n",
      "2021-11-05 23:51:05,090 val log_loss=0.15907214016883073\n",
      "2021-11-05 23:51:05,098 params={'C': 0.5, 'max_iter': 300, 'random_state': 1}\n",
      "2021-11-05 23:52:02,229 train log_loss=0.13002862725272493\n",
      "2021-11-05 23:52:02,230 val log_loss=0.15894319623049835\n",
      "2021-11-05 23:52:02,235 params={'C': 0.5, 'max_iter': 500, 'random_state': 1}\n",
      "2021-11-05 23:52:53,408 train log_loss=0.13002862725272493\n",
      "2021-11-05 23:52:53,409 val log_loss=0.15894319623049835\n",
      "2021-11-05 23:52:53,415 params={'C': 0.5, 'max_iter': 700, 'random_state': 1}\n",
      "2021-11-05 23:53:46,680 train log_loss=0.13002862725272493\n",
      "2021-11-05 23:53:46,681 val log_loss=0.15894319623049835\n",
      "2021-11-05 23:53:46,686 params={'C': 0.5, 'max_iter': 900, 'random_state': 1}\n",
      "2021-11-05 23:54:36,734 train log_loss=0.13002862725272493\n",
      "2021-11-05 23:54:36,735 val log_loss=0.15894319623049835\n",
      "2021-11-05 23:54:36,741 params={'C': 0.75, 'max_iter': 100, 'random_state': 1}\n",
      "/Users/ruslantsygankov/studying/ITMO/csc_rec_sys/Recsys-course-homework/venv/lib/python3.8/site-packages/sklearn/linear_model/_logistic.py:814: ConvergenceWarning: lbfgs failed to converge (status=1):\n",
      "STOP: TOTAL NO. of ITERATIONS REACHED LIMIT.\n",
      "\n",
      "Increase the number of iterations (max_iter) or scale the data as shown in:\n",
      "    https://scikit-learn.org/stable/modules/preprocessing.html\n",
      "Please also refer to the documentation for alternative solver options:\n",
      "    https://scikit-learn.org/stable/modules/linear_model.html#logistic-regression\n",
      "  n_iter_i = _check_optimize_result(\n",
      "2021-11-05 23:54:57,406 train log_loss=0.13001021302608518\n",
      "2021-11-05 23:54:57,407 val log_loss=0.1592157273746338\n",
      "2021-11-05 23:54:57,412 params={'C': 0.75, 'max_iter': 300, 'random_state': 1}\n",
      "2021-11-05 23:55:50,103 train log_loss=0.12997462634472554\n",
      "2021-11-05 23:55:50,104 val log_loss=0.1591865518953536\n",
      "2021-11-05 23:55:50,110 params={'C': 0.75, 'max_iter': 500, 'random_state': 1}\n",
      "2021-11-05 23:56:49,043 train log_loss=0.12997462634472554\n",
      "2021-11-05 23:56:49,044 val log_loss=0.1591865518953536\n",
      "2021-11-05 23:56:49,056 params={'C': 0.75, 'max_iter': 700, 'random_state': 1}\n",
      "2021-11-05 23:57:58,210 train log_loss=0.12997462634472554\n",
      "2021-11-05 23:57:58,211 val log_loss=0.1591865518953536\n",
      "2021-11-05 23:57:58,217 params={'C': 0.75, 'max_iter': 900, 'random_state': 1}\n",
      "2021-11-05 23:59:12,035 train log_loss=0.12997462634472554\n",
      "2021-11-05 23:59:12,037 val log_loss=0.1591865518953536\n",
      "2021-11-05 23:59:12,046 params={'C': 1.0, 'max_iter': 100, 'random_state': 1}\n",
      "/Users/ruslantsygankov/studying/ITMO/csc_rec_sys/Recsys-course-homework/venv/lib/python3.8/site-packages/sklearn/linear_model/_logistic.py:814: ConvergenceWarning: lbfgs failed to converge (status=1):\n",
      "STOP: TOTAL NO. of ITERATIONS REACHED LIMIT.\n",
      "\n",
      "Increase the number of iterations (max_iter) or scale the data as shown in:\n",
      "    https://scikit-learn.org/stable/modules/preprocessing.html\n",
      "Please also refer to the documentation for alternative solver options:\n",
      "    https://scikit-learn.org/stable/modules/linear_model.html#logistic-regression\n",
      "  n_iter_i = _check_optimize_result(\n",
      "2021-11-05 23:59:39,551 train log_loss=0.13000746575489258\n",
      "2021-11-05 23:59:39,552 val log_loss=0.15941452061405226\n",
      "2021-11-05 23:59:39,559 params={'C': 1.0, 'max_iter': 300, 'random_state': 1}\n",
      "2021-11-06 00:00:48,670 train log_loss=0.12995128367327843\n",
      "2021-11-06 00:00:48,671 val log_loss=0.1593136555932573\n",
      "2021-11-06 00:00:48,678 params={'C': 1.0, 'max_iter': 500, 'random_state': 1}\n",
      "2021-11-06 00:01:57,851 train log_loss=0.12995128367327843\n",
      "2021-11-06 00:01:57,853 val log_loss=0.1593136555932573\n",
      "2021-11-06 00:01:57,861 params={'C': 1.0, 'max_iter': 700, 'random_state': 1}\n",
      "2021-11-06 00:03:04,135 train log_loss=0.12995128367327843\n",
      "2021-11-06 00:03:04,136 val log_loss=0.1593136555932573\n",
      "2021-11-06 00:03:04,143 params={'C': 1.0, 'max_iter': 900, 'random_state': 1}\n",
      "2021-11-06 00:04:15,150 train log_loss=0.12995128367327843\n",
      "2021-11-06 00:04:15,151 val log_loss=0.1593136555932573\n",
      "2021-11-06 00:04:15,159 params={'C': 1.25, 'max_iter': 100, 'random_state': 1}\n",
      "/Users/ruslantsygankov/studying/ITMO/csc_rec_sys/Recsys-course-homework/venv/lib/python3.8/site-packages/sklearn/linear_model/_logistic.py:814: ConvergenceWarning: lbfgs failed to converge (status=1):\n",
      "STOP: TOTAL NO. of ITERATIONS REACHED LIMIT.\n",
      "\n",
      "Increase the number of iterations (max_iter) or scale the data as shown in:\n",
      "    https://scikit-learn.org/stable/modules/preprocessing.html\n",
      "Please also refer to the documentation for alternative solver options:\n",
      "    https://scikit-learn.org/stable/modules/linear_model.html#logistic-regression\n",
      "  n_iter_i = _check_optimize_result(\n",
      "2021-11-06 00:04:41,585 train log_loss=0.12996691546534583\n",
      "2021-11-06 00:04:41,586 val log_loss=0.1594138076405533\n",
      "2021-11-06 00:04:41,593 params={'C': 1.25, 'max_iter': 300, 'random_state': 1}\n",
      "2021-11-06 00:05:47,326 train log_loss=0.12993857135602715\n",
      "2021-11-06 00:05:47,327 val log_loss=0.15940384220807113\n",
      "2021-11-06 00:05:47,333 params={'C': 1.25, 'max_iter': 500, 'random_state': 1}\n",
      "2021-11-06 00:06:49,775 train log_loss=0.12993857135602715\n",
      "2021-11-06 00:06:49,776 val log_loss=0.15940384220807113\n",
      "2021-11-06 00:06:49,782 params={'C': 1.25, 'max_iter': 700, 'random_state': 1}\n",
      "2021-11-06 00:07:56,173 train log_loss=0.12993857135602715\n",
      "2021-11-06 00:07:56,174 val log_loss=0.15940384220807113\n",
      "2021-11-06 00:07:56,180 params={'C': 1.25, 'max_iter': 900, 'random_state': 1}\n",
      "2021-11-06 00:08:57,497 train log_loss=0.12993857135602715\n",
      "2021-11-06 00:08:57,498 val log_loss=0.15940384220807113\n",
      "2021-11-06 00:08:57,504 params={'C': 1.5, 'max_iter': 100, 'random_state': 1}\n",
      "/Users/ruslantsygankov/studying/ITMO/csc_rec_sys/Recsys-course-homework/venv/lib/python3.8/site-packages/sklearn/linear_model/_logistic.py:814: ConvergenceWarning: lbfgs failed to converge (status=1):\n",
      "STOP: TOTAL NO. of ITERATIONS REACHED LIMIT.\n",
      "\n",
      "Increase the number of iterations (max_iter) or scale the data as shown in:\n",
      "    https://scikit-learn.org/stable/modules/preprocessing.html\n",
      "Please also refer to the documentation for alternative solver options:\n",
      "    https://scikit-learn.org/stable/modules/linear_model.html#logistic-regression\n",
      "  n_iter_i = _check_optimize_result(\n",
      "2021-11-06 00:09:22,470 train log_loss=0.12997955457407012\n",
      "2021-11-06 00:09:22,471 val log_loss=0.1594952819220645\n",
      "2021-11-06 00:09:22,478 params={'C': 1.5, 'max_iter': 300, 'random_state': 1}\n",
      "2021-11-06 00:10:26,423 train log_loss=0.1299305916394456\n",
      "2021-11-06 00:10:26,424 val log_loss=0.1594756421843039\n",
      "2021-11-06 00:10:26,430 params={'C': 1.5, 'max_iter': 500, 'random_state': 1}\n",
      "2021-11-06 00:11:30,228 train log_loss=0.1299305916394456\n",
      "2021-11-06 00:11:30,230 val log_loss=0.1594756421843039\n",
      "2021-11-06 00:11:30,239 params={'C': 1.5, 'max_iter': 700, 'random_state': 1}\n",
      "2021-11-06 00:12:37,906 train log_loss=0.1299305916394456\n",
      "2021-11-06 00:12:37,907 val log_loss=0.1594756421843039\n",
      "2021-11-06 00:12:37,915 params={'C': 1.5, 'max_iter': 900, 'random_state': 1}\n",
      "2021-11-06 00:13:43,428 train log_loss=0.1299305916394456\n",
      "2021-11-06 00:13:43,429 val log_loss=0.1594756421843039\n",
      "2021-11-06 00:13:43,434 params={'C': 1.75, 'max_iter': 100, 'random_state': 1}\n",
      "/Users/ruslantsygankov/studying/ITMO/csc_rec_sys/Recsys-course-homework/venv/lib/python3.8/site-packages/sklearn/linear_model/_logistic.py:814: ConvergenceWarning: lbfgs failed to converge (status=1):\n",
      "STOP: TOTAL NO. of ITERATIONS REACHED LIMIT.\n",
      "\n",
      "Increase the number of iterations (max_iter) or scale the data as shown in:\n",
      "    https://scikit-learn.org/stable/modules/preprocessing.html\n",
      "Please also refer to the documentation for alternative solver options:\n",
      "    https://scikit-learn.org/stable/modules/linear_model.html#logistic-regression\n",
      "  n_iter_i = _check_optimize_result(\n"
     ]
    },
    {
     "name": "stderr",
     "output_type": "stream",
     "text": [
      "2021-11-06 00:14:06,368 train log_loss=0.12996854250971007\n",
      "2021-11-06 00:14:06,369 val log_loss=0.15974284880003656\n",
      "2021-11-06 00:14:06,375 params={'C': 1.75, 'max_iter': 300, 'random_state': 1}\n",
      "/Users/ruslantsygankov/studying/ITMO/csc_rec_sys/Recsys-course-homework/venv/lib/python3.8/site-packages/sklearn/linear_model/_logistic.py:814: ConvergenceWarning: lbfgs failed to converge (status=1):\n",
      "STOP: TOTAL NO. of ITERATIONS REACHED LIMIT.\n",
      "\n",
      "Increase the number of iterations (max_iter) or scale the data as shown in:\n",
      "    https://scikit-learn.org/stable/modules/preprocessing.html\n",
      "Please also refer to the documentation for alternative solver options:\n",
      "    https://scikit-learn.org/stable/modules/linear_model.html#logistic-regression\n",
      "  n_iter_i = _check_optimize_result(\n",
      "2021-11-06 00:15:17,940 train log_loss=0.12992725935436547\n",
      "2021-11-06 00:15:17,941 val log_loss=0.1595242045655199\n",
      "2021-11-06 00:15:17,948 params={'C': 1.75, 'max_iter': 500, 'random_state': 1}\n",
      "2021-11-06 00:16:39,657 train log_loss=0.12992485986488975\n",
      "2021-11-06 00:16:39,658 val log_loss=0.15952255392498463\n",
      "2021-11-06 00:16:39,664 params={'C': 1.75, 'max_iter': 700, 'random_state': 1}\n",
      "2021-11-06 00:17:59,337 train log_loss=0.12992485986488975\n",
      "2021-11-06 00:17:59,338 val log_loss=0.15952255392498463\n",
      "2021-11-06 00:17:59,344 params={'C': 1.75, 'max_iter': 900, 'random_state': 1}\n",
      "2021-11-06 00:19:24,607 train log_loss=0.12992485986488975\n",
      "2021-11-06 00:19:24,608 val log_loss=0.15952255392498463\n",
      "2021-11-06 00:19:24,613 params={'C': 2.0, 'max_iter': 100, 'random_state': 1}\n",
      "/Users/ruslantsygankov/studying/ITMO/csc_rec_sys/Recsys-course-homework/venv/lib/python3.8/site-packages/sklearn/linear_model/_logistic.py:814: ConvergenceWarning: lbfgs failed to converge (status=1):\n",
      "STOP: TOTAL NO. of ITERATIONS REACHED LIMIT.\n",
      "\n",
      "Increase the number of iterations (max_iter) or scale the data as shown in:\n",
      "    https://scikit-learn.org/stable/modules/preprocessing.html\n",
      "Please also refer to the documentation for alternative solver options:\n",
      "    https://scikit-learn.org/stable/modules/linear_model.html#logistic-regression\n",
      "  n_iter_i = _check_optimize_result(\n",
      "2021-11-06 00:19:48,109 train log_loss=0.12999780609974926\n",
      "2021-11-06 00:19:48,109 val log_loss=0.15935525397562056\n",
      "2021-11-06 00:19:48,115 params={'C': 2.0, 'max_iter': 300, 'random_state': 1}\n",
      "/Users/ruslantsygankov/studying/ITMO/csc_rec_sys/Recsys-course-homework/venv/lib/python3.8/site-packages/sklearn/linear_model/_logistic.py:814: ConvergenceWarning: lbfgs failed to converge (status=1):\n",
      "STOP: TOTAL NO. of ITERATIONS REACHED LIMIT.\n",
      "\n",
      "Increase the number of iterations (max_iter) or scale the data as shown in:\n",
      "    https://scikit-learn.org/stable/modules/preprocessing.html\n",
      "Please also refer to the documentation for alternative solver options:\n",
      "    https://scikit-learn.org/stable/modules/linear_model.html#logistic-regression\n",
      "  n_iter_i = _check_optimize_result(\n",
      "2021-11-06 00:20:55,868 train log_loss=0.12992155075983752\n",
      "2021-11-06 00:20:55,869 val log_loss=0.15955711807425904\n",
      "2021-11-06 00:20:55,876 params={'C': 2.0, 'max_iter': 500, 'random_state': 1}\n",
      "2021-11-06 00:22:15,384 train log_loss=0.1299214718486074\n",
      "2021-11-06 00:22:15,385 val log_loss=0.15957204222852472\n",
      "2021-11-06 00:22:15,392 params={'C': 2.0, 'max_iter': 700, 'random_state': 1}\n",
      "2021-11-06 00:23:35,321 train log_loss=0.1299214718486074\n",
      "2021-11-06 00:23:35,322 val log_loss=0.15957204222852472\n",
      "2021-11-06 00:23:35,328 params={'C': 2.0, 'max_iter': 900, 'random_state': 1}\n",
      "2021-11-06 00:24:48,402 train log_loss=0.1299214718486074\n",
      "2021-11-06 00:24:48,403 val log_loss=0.15957204222852472\n",
      "2021-11-06 00:24:48,408 params={'C': 2.25, 'max_iter': 100, 'random_state': 1}\n",
      "/Users/ruslantsygankov/studying/ITMO/csc_rec_sys/Recsys-course-homework/venv/lib/python3.8/site-packages/sklearn/linear_model/_logistic.py:814: ConvergenceWarning: lbfgs failed to converge (status=1):\n",
      "STOP: TOTAL NO. of ITERATIONS REACHED LIMIT.\n",
      "\n",
      "Increase the number of iterations (max_iter) or scale the data as shown in:\n",
      "    https://scikit-learn.org/stable/modules/preprocessing.html\n",
      "Please also refer to the documentation for alternative solver options:\n",
      "    https://scikit-learn.org/stable/modules/linear_model.html#logistic-regression\n",
      "  n_iter_i = _check_optimize_result(\n",
      "2021-11-06 00:25:12,992 train log_loss=0.12997128390575424\n",
      "2021-11-06 00:25:12,994 val log_loss=0.15970430848409425\n",
      "2021-11-06 00:25:13,001 params={'C': 2.25, 'max_iter': 300, 'random_state': 1}\n",
      "2021-11-06 00:26:20,354 train log_loss=0.12991902208864545\n",
      "2021-11-06 00:26:20,355 val log_loss=0.15959771861378882\n",
      "2021-11-06 00:26:20,362 params={'C': 2.25, 'max_iter': 500, 'random_state': 1}\n",
      "2021-11-06 00:27:30,920 train log_loss=0.12991902208864545\n",
      "2021-11-06 00:27:30,921 val log_loss=0.15959771861378882\n",
      "2021-11-06 00:27:30,926 params={'C': 2.25, 'max_iter': 700, 'random_state': 1}\n",
      "2021-11-06 00:28:38,903 train log_loss=0.12991902208864545\n",
      "2021-11-06 00:28:38,904 val log_loss=0.15959771861378882\n",
      "2021-11-06 00:28:38,913 params={'C': 2.25, 'max_iter': 900, 'random_state': 1}\n",
      "2021-11-06 00:29:47,525 train log_loss=0.12991902208864545\n",
      "2021-11-06 00:29:47,526 val log_loss=0.15959771861378882\n",
      "2021-11-06 00:29:47,531 params={'C': 2.5, 'max_iter': 100, 'random_state': 1}\n",
      "/Users/ruslantsygankov/studying/ITMO/csc_rec_sys/Recsys-course-homework/venv/lib/python3.8/site-packages/sklearn/linear_model/_logistic.py:814: ConvergenceWarning: lbfgs failed to converge (status=1):\n",
      "STOP: TOTAL NO. of ITERATIONS REACHED LIMIT.\n",
      "\n",
      "Increase the number of iterations (max_iter) or scale the data as shown in:\n",
      "    https://scikit-learn.org/stable/modules/preprocessing.html\n",
      "Please also refer to the documentation for alternative solver options:\n",
      "    https://scikit-learn.org/stable/modules/linear_model.html#logistic-regression\n",
      "  n_iter_i = _check_optimize_result(\n",
      "2021-11-06 00:30:09,652 train log_loss=0.12996826146144272\n",
      "2021-11-06 00:30:09,653 val log_loss=0.15954545546590798\n",
      "2021-11-06 00:30:09,658 params={'C': 2.5, 'max_iter': 300, 'random_state': 1}\n",
      "2021-11-06 00:31:15,440 train log_loss=0.12991819595128515\n",
      "2021-11-06 00:31:15,441 val log_loss=0.15960596227563947\n",
      "2021-11-06 00:31:15,446 params={'C': 2.5, 'max_iter': 500, 'random_state': 1}\n",
      "2021-11-06 00:32:19,860 train log_loss=0.12991819595128515\n",
      "2021-11-06 00:32:19,861 val log_loss=0.15960596227563947\n",
      "2021-11-06 00:32:19,866 params={'C': 2.5, 'max_iter': 700, 'random_state': 1}\n",
      "2021-11-06 00:33:23,403 train log_loss=0.12991819595128515\n",
      "2021-11-06 00:33:23,404 val log_loss=0.15960596227563947\n",
      "2021-11-06 00:33:23,409 params={'C': 2.5, 'max_iter': 900, 'random_state': 1}\n",
      "2021-11-06 00:34:29,869 train log_loss=0.12991819595128515\n",
      "2021-11-06 00:34:29,870 val log_loss=0.15960596227563947\n",
      "2021-11-06 00:34:29,875 params={'C': 2.75, 'max_iter': 100, 'random_state': 1}\n",
      "/Users/ruslantsygankov/studying/ITMO/csc_rec_sys/Recsys-course-homework/venv/lib/python3.8/site-packages/sklearn/linear_model/_logistic.py:814: ConvergenceWarning: lbfgs failed to converge (status=1):\n",
      "STOP: TOTAL NO. of ITERATIONS REACHED LIMIT.\n",
      "\n",
      "Increase the number of iterations (max_iter) or scale the data as shown in:\n",
      "    https://scikit-learn.org/stable/modules/preprocessing.html\n",
      "Please also refer to the documentation for alternative solver options:\n",
      "    https://scikit-learn.org/stable/modules/linear_model.html#logistic-regression\n",
      "  n_iter_i = _check_optimize_result(\n",
      "2021-11-06 00:34:52,490 train log_loss=0.12996604649885937\n",
      "2021-11-06 00:34:52,490 val log_loss=0.1597228282603394\n",
      "2021-11-06 00:34:52,496 params={'C': 2.75, 'max_iter': 300, 'random_state': 1}\n",
      "/Users/ruslantsygankov/studying/ITMO/csc_rec_sys/Recsys-course-homework/venv/lib/python3.8/site-packages/sklearn/linear_model/_logistic.py:814: ConvergenceWarning: lbfgs failed to converge (status=1):\n",
      "STOP: TOTAL NO. of ITERATIONS REACHED LIMIT.\n",
      "\n",
      "Increase the number of iterations (max_iter) or scale the data as shown in:\n",
      "    https://scikit-learn.org/stable/modules/preprocessing.html\n",
      "Please also refer to the documentation for alternative solver options:\n",
      "    https://scikit-learn.org/stable/modules/linear_model.html#logistic-regression\n",
      "  n_iter_i = _check_optimize_result(\n",
      "2021-11-06 00:36:04,099 train log_loss=0.12991654310034026\n",
      "2021-11-06 00:36:04,100 val log_loss=0.15963789943832238\n"
     ]
    },
    {
     "name": "stderr",
     "output_type": "stream",
     "text": [
      "2021-11-06 00:36:04,104 params={'C': 2.75, 'max_iter': 500, 'random_state': 1}\n",
      "2021-11-06 00:37:24,330 train log_loss=0.12991577302177676\n",
      "2021-11-06 00:37:24,331 val log_loss=0.15964533080675766\n",
      "2021-11-06 00:37:24,337 params={'C': 2.75, 'max_iter': 700, 'random_state': 1}\n",
      "2021-11-06 00:38:47,793 train log_loss=0.12991577302177676\n",
      "2021-11-06 00:38:47,794 val log_loss=0.15964533080675766\n",
      "2021-11-06 00:38:47,802 params={'C': 2.75, 'max_iter': 900, 'random_state': 1}\n",
      "2021-11-06 00:40:10,131 train log_loss=0.12991577302177676\n",
      "2021-11-06 00:40:10,132 val log_loss=0.15964533080675766\n",
      "2021-11-06 00:40:10,136 params={'C': 3.0, 'max_iter': 100, 'random_state': 1}\n",
      "/Users/ruslantsygankov/studying/ITMO/csc_rec_sys/Recsys-course-homework/venv/lib/python3.8/site-packages/sklearn/linear_model/_logistic.py:814: ConvergenceWarning: lbfgs failed to converge (status=1):\n",
      "STOP: TOTAL NO. of ITERATIONS REACHED LIMIT.\n",
      "\n",
      "Increase the number of iterations (max_iter) or scale the data as shown in:\n",
      "    https://scikit-learn.org/stable/modules/preprocessing.html\n",
      "Please also refer to the documentation for alternative solver options:\n",
      "    https://scikit-learn.org/stable/modules/linear_model.html#logistic-regression\n",
      "  n_iter_i = _check_optimize_result(\n",
      "2021-11-06 00:40:33,301 train log_loss=0.1299621865620498\n",
      "2021-11-06 00:40:33,302 val log_loss=0.15963581945647282\n",
      "2021-11-06 00:40:33,307 params={'C': 3.0, 'max_iter': 300, 'random_state': 1}\n",
      "2021-11-06 00:41:42,611 train log_loss=0.12991428521166487\n",
      "2021-11-06 00:41:42,612 val log_loss=0.15966321550675333\n",
      "2021-11-06 00:41:42,617 params={'C': 3.0, 'max_iter': 500, 'random_state': 1}\n",
      "2021-11-06 00:42:50,388 train log_loss=0.12991428521166487\n",
      "2021-11-06 00:42:50,389 val log_loss=0.15966321550675333\n",
      "2021-11-06 00:42:50,393 params={'C': 3.0, 'max_iter': 700, 'random_state': 1}\n",
      "2021-11-06 00:43:56,174 train log_loss=0.12991428521166487\n",
      "2021-11-06 00:43:56,174 val log_loss=0.15966321550675333\n",
      "2021-11-06 00:43:56,181 params={'C': 3.0, 'max_iter': 900, 'random_state': 1}\n",
      "2021-11-06 00:45:06,444 train log_loss=0.12991428521166487\n",
      "2021-11-06 00:45:06,445 val log_loss=0.15966321550675333\n",
      "2021-11-06 00:45:06,454 params={'C': 3.25, 'max_iter': 100, 'random_state': 1}\n",
      "/Users/ruslantsygankov/studying/ITMO/csc_rec_sys/Recsys-course-homework/venv/lib/python3.8/site-packages/sklearn/linear_model/_logistic.py:814: ConvergenceWarning: lbfgs failed to converge (status=1):\n",
      "STOP: TOTAL NO. of ITERATIONS REACHED LIMIT.\n",
      "\n",
      "Increase the number of iterations (max_iter) or scale the data as shown in:\n",
      "    https://scikit-learn.org/stable/modules/preprocessing.html\n",
      "Please also refer to the documentation for alternative solver options:\n",
      "    https://scikit-learn.org/stable/modules/linear_model.html#logistic-regression\n",
      "  n_iter_i = _check_optimize_result(\n",
      "2021-11-06 00:45:29,097 train log_loss=0.12999800769579256\n",
      "2021-11-06 00:45:29,098 val log_loss=0.15988828529779828\n",
      "2021-11-06 00:45:29,102 params={'C': 3.25, 'max_iter': 300, 'random_state': 1}\n",
      "/Users/ruslantsygankov/studying/ITMO/csc_rec_sys/Recsys-course-homework/venv/lib/python3.8/site-packages/sklearn/linear_model/_logistic.py:814: ConvergenceWarning: lbfgs failed to converge (status=1):\n",
      "STOP: TOTAL NO. of ITERATIONS REACHED LIMIT.\n",
      "\n",
      "Increase the number of iterations (max_iter) or scale the data as shown in:\n",
      "    https://scikit-learn.org/stable/modules/preprocessing.html\n",
      "Please also refer to the documentation for alternative solver options:\n",
      "    https://scikit-learn.org/stable/modules/linear_model.html#logistic-regression\n",
      "  n_iter_i = _check_optimize_result(\n",
      "2021-11-06 00:46:34,585 train log_loss=0.12991448168391456\n",
      "2021-11-06 00:46:34,586 val log_loss=0.15968528111086655\n",
      "2021-11-06 00:46:34,592 params={'C': 3.25, 'max_iter': 500, 'random_state': 1}\n",
      "2021-11-06 00:48:00,480 train log_loss=0.12991261973543639\n",
      "2021-11-06 00:48:00,481 val log_loss=0.1596710595151107\n",
      "2021-11-06 00:48:00,486 params={'C': 3.25, 'max_iter': 700, 'random_state': 1}\n",
      "2021-11-06 00:49:19,993 train log_loss=0.12991261973543639\n",
      "2021-11-06 00:49:19,994 val log_loss=0.1596710595151107\n",
      "2021-11-06 00:49:19,999 params={'C': 3.25, 'max_iter': 900, 'random_state': 1}\n",
      "2021-11-06 00:50:39,360 train log_loss=0.12991261973543639\n",
      "2021-11-06 00:50:39,361 val log_loss=0.1596710595151107\n",
      "2021-11-06 00:50:39,366 params={'C': 3.5, 'max_iter': 100, 'random_state': 1}\n",
      "/Users/ruslantsygankov/studying/ITMO/csc_rec_sys/Recsys-course-homework/venv/lib/python3.8/site-packages/sklearn/linear_model/_logistic.py:814: ConvergenceWarning: lbfgs failed to converge (status=1):\n",
      "STOP: TOTAL NO. of ITERATIONS REACHED LIMIT.\n",
      "\n",
      "Increase the number of iterations (max_iter) or scale the data as shown in:\n",
      "    https://scikit-learn.org/stable/modules/preprocessing.html\n",
      "Please also refer to the documentation for alternative solver options:\n",
      "    https://scikit-learn.org/stable/modules/linear_model.html#logistic-regression\n",
      "  n_iter_i = _check_optimize_result(\n",
      "2021-11-06 00:51:03,196 train log_loss=0.12995376539105719\n",
      "2021-11-06 00:51:03,197 val log_loss=0.15954073204033947\n",
      "2021-11-06 00:51:03,201 params={'C': 3.5, 'max_iter': 300, 'random_state': 1}\n",
      "2021-11-06 00:52:08,895 train log_loss=0.12991305103351491\n",
      "2021-11-06 00:52:08,896 val log_loss=0.15967054383093374\n",
      "2021-11-06 00:52:08,900 params={'C': 3.5, 'max_iter': 500, 'random_state': 1}\n",
      "2021-11-06 00:53:13,777 train log_loss=0.12991305103351491\n",
      "2021-11-06 00:53:13,778 val log_loss=0.15967054383093374\n",
      "2021-11-06 00:53:13,783 params={'C': 3.5, 'max_iter': 700, 'random_state': 1}\n",
      "2021-11-06 00:54:22,198 train log_loss=0.12991305103351491\n",
      "2021-11-06 00:54:22,199 val log_loss=0.15967054383093374\n",
      "2021-11-06 00:54:22,204 params={'C': 3.5, 'max_iter': 900, 'random_state': 1}\n",
      "2021-11-06 00:55:25,472 train log_loss=0.12991305103351491\n",
      "2021-11-06 00:55:25,473 val log_loss=0.15967054383093374\n",
      "2021-11-06 00:55:25,477 params={'C': 3.75, 'max_iter': 100, 'random_state': 1}\n",
      "/Users/ruslantsygankov/studying/ITMO/csc_rec_sys/Recsys-course-homework/venv/lib/python3.8/site-packages/sklearn/linear_model/_logistic.py:814: ConvergenceWarning: lbfgs failed to converge (status=1):\n",
      "STOP: TOTAL NO. of ITERATIONS REACHED LIMIT.\n",
      "\n",
      "Increase the number of iterations (max_iter) or scale the data as shown in:\n",
      "    https://scikit-learn.org/stable/modules/preprocessing.html\n",
      "Please also refer to the documentation for alternative solver options:\n",
      "    https://scikit-learn.org/stable/modules/linear_model.html#logistic-regression\n",
      "  n_iter_i = _check_optimize_result(\n",
      "2021-11-06 00:55:48,262 train log_loss=0.12996256746335624\n",
      "2021-11-06 00:55:48,263 val log_loss=0.15969617643476286\n",
      "2021-11-06 00:55:48,268 params={'C': 3.75, 'max_iter': 300, 'random_state': 1}\n",
      "/Users/ruslantsygankov/studying/ITMO/csc_rec_sys/Recsys-course-homework/venv/lib/python3.8/site-packages/sklearn/linear_model/_logistic.py:814: ConvergenceWarning: lbfgs failed to converge (status=1):\n",
      "STOP: TOTAL NO. of ITERATIONS REACHED LIMIT.\n",
      "\n",
      "Increase the number of iterations (max_iter) or scale the data as shown in:\n",
      "    https://scikit-learn.org/stable/modules/preprocessing.html\n",
      "Please also refer to the documentation for alternative solver options:\n",
      "    https://scikit-learn.org/stable/modules/linear_model.html#logistic-regression\n",
      "  n_iter_i = _check_optimize_result(\n",
      "2021-11-06 00:56:58,065 train log_loss=0.12991236630687553\n",
      "2021-11-06 00:56:58,066 val log_loss=0.1596858488589673\n",
      "2021-11-06 00:56:58,071 params={'C': 3.75, 'max_iter': 500, 'random_state': 1}\n",
      "2021-11-06 00:58:24,573 train log_loss=0.12991104486478866\n",
      "2021-11-06 00:58:24,574 val log_loss=0.1597031351988306\n",
      "2021-11-06 00:58:24,579 params={'C': 3.75, 'max_iter': 700, 'random_state': 1}\n",
      "2021-11-06 00:59:51,541 train log_loss=0.12991104486478866\n",
      "2021-11-06 00:59:51,542 val log_loss=0.1597031351988306\n",
      "2021-11-06 00:59:51,547 params={'C': 3.75, 'max_iter': 900, 'random_state': 1}\n",
      "2021-11-06 01:01:16,246 train log_loss=0.12991104486478866\n",
      "2021-11-06 01:01:16,247 val log_loss=0.1597031351988306\n",
      "2021-11-06 01:01:16,253 params={'C': 4.0, 'max_iter': 100, 'random_state': 1}\n",
      "/Users/ruslantsygankov/studying/ITMO/csc_rec_sys/Recsys-course-homework/venv/lib/python3.8/site-packages/sklearn/linear_model/_logistic.py:814: ConvergenceWarning: lbfgs failed to converge (status=1):\n",
      "STOP: TOTAL NO. of ITERATIONS REACHED LIMIT.\n",
      "\n",
      "Increase the number of iterations (max_iter) or scale the data as shown in:\n",
      "    https://scikit-learn.org/stable/modules/preprocessing.html\n",
      "Please also refer to the documentation for alternative solver options:\n",
      "    https://scikit-learn.org/stable/modules/linear_model.html#logistic-regression\n",
      "  n_iter_i = _check_optimize_result(\n"
     ]
    },
    {
     "name": "stderr",
     "output_type": "stream",
     "text": [
      "2021-11-06 01:01:40,134 train log_loss=0.12996862838437542\n",
      "2021-11-06 01:01:40,135 val log_loss=0.15973692935928352\n",
      "2021-11-06 01:01:40,145 params={'C': 4.0, 'max_iter': 300, 'random_state': 1}\n",
      "/Users/ruslantsygankov/studying/ITMO/csc_rec_sys/Recsys-course-homework/venv/lib/python3.8/site-packages/sklearn/linear_model/_logistic.py:814: ConvergenceWarning: lbfgs failed to converge (status=1):\n",
      "STOP: TOTAL NO. of ITERATIONS REACHED LIMIT.\n",
      "\n",
      "Increase the number of iterations (max_iter) or scale the data as shown in:\n",
      "    https://scikit-learn.org/stable/modules/preprocessing.html\n",
      "Please also refer to the documentation for alternative solver options:\n",
      "    https://scikit-learn.org/stable/modules/linear_model.html#logistic-regression\n",
      "  n_iter_i = _check_optimize_result(\n",
      "2021-11-06 01:02:45,555 train log_loss=0.1299130030167316\n",
      "2021-11-06 01:02:45,556 val log_loss=0.15967354927853863\n",
      "2021-11-06 01:02:45,561 params={'C': 4.0, 'max_iter': 500, 'random_state': 1}\n",
      "2021-11-06 01:04:04,771 train log_loss=0.12991072290520336\n",
      "2021-11-06 01:04:04,771 val log_loss=0.1597099870417482\n",
      "2021-11-06 01:04:04,776 params={'C': 4.0, 'max_iter': 700, 'random_state': 1}\n",
      "2021-11-06 01:05:30,567 train log_loss=0.12991072290520336\n",
      "2021-11-06 01:05:30,568 val log_loss=0.1597099870417482\n",
      "2021-11-06 01:05:30,574 params={'C': 4.0, 'max_iter': 900, 'random_state': 1}\n",
      "2021-11-06 01:06:50,171 train log_loss=0.12991072290520336\n",
      "2021-11-06 01:06:50,172 val log_loss=0.1597099870417482\n",
      "2021-11-06 01:06:50,176 params={'C': 4.25, 'max_iter': 100, 'random_state': 1}\n",
      "/Users/ruslantsygankov/studying/ITMO/csc_rec_sys/Recsys-course-homework/venv/lib/python3.8/site-packages/sklearn/linear_model/_logistic.py:814: ConvergenceWarning: lbfgs failed to converge (status=1):\n",
      "STOP: TOTAL NO. of ITERATIONS REACHED LIMIT.\n",
      "\n",
      "Increase the number of iterations (max_iter) or scale the data as shown in:\n",
      "    https://scikit-learn.org/stable/modules/preprocessing.html\n",
      "Please also refer to the documentation for alternative solver options:\n",
      "    https://scikit-learn.org/stable/modules/linear_model.html#logistic-regression\n",
      "  n_iter_i = _check_optimize_result(\n",
      "2021-11-06 01:07:13,841 train log_loss=0.12998304611921066\n",
      "2021-11-06 01:07:13,842 val log_loss=0.16017234935861846\n",
      "2021-11-06 01:07:13,847 params={'C': 4.25, 'max_iter': 300, 'random_state': 1}\n",
      "/Users/ruslantsygankov/studying/ITMO/csc_rec_sys/Recsys-course-homework/venv/lib/python3.8/site-packages/sklearn/linear_model/_logistic.py:814: ConvergenceWarning: lbfgs failed to converge (status=1):\n",
      "STOP: TOTAL NO. of ITERATIONS REACHED LIMIT.\n",
      "\n",
      "Increase the number of iterations (max_iter) or scale the data as shown in:\n",
      "    https://scikit-learn.org/stable/modules/preprocessing.html\n",
      "Please also refer to the documentation for alternative solver options:\n",
      "    https://scikit-learn.org/stable/modules/linear_model.html#logistic-regression\n",
      "  n_iter_i = _check_optimize_result(\n",
      "2021-11-06 01:08:22,972 train log_loss=0.1299114829628405\n",
      "2021-11-06 01:08:22,973 val log_loss=0.15972498343027683\n",
      "2021-11-06 01:08:22,978 params={'C': 4.25, 'max_iter': 500, 'random_state': 1}\n",
      "2021-11-06 01:09:49,359 train log_loss=0.12991079010801299\n",
      "2021-11-06 01:09:49,360 val log_loss=0.15970948162875256\n",
      "2021-11-06 01:09:49,365 params={'C': 4.25, 'max_iter': 700, 'random_state': 1}\n",
      "2021-11-06 01:11:13,281 train log_loss=0.12991079010801299\n",
      "2021-11-06 01:11:13,282 val log_loss=0.15970948162875256\n",
      "2021-11-06 01:11:13,287 params={'C': 4.25, 'max_iter': 900, 'random_state': 1}\n",
      "2021-11-06 01:12:36,296 train log_loss=0.12991079010801299\n",
      "2021-11-06 01:12:36,297 val log_loss=0.15970948162875256\n",
      "2021-11-06 01:12:36,301 params={'C': 4.5, 'max_iter': 100, 'random_state': 1}\n",
      "/Users/ruslantsygankov/studying/ITMO/csc_rec_sys/Recsys-course-homework/venv/lib/python3.8/site-packages/sklearn/linear_model/_logistic.py:814: ConvergenceWarning: lbfgs failed to converge (status=1):\n",
      "STOP: TOTAL NO. of ITERATIONS REACHED LIMIT.\n",
      "\n",
      "Increase the number of iterations (max_iter) or scale the data as shown in:\n",
      "    https://scikit-learn.org/stable/modules/preprocessing.html\n",
      "Please also refer to the documentation for alternative solver options:\n",
      "    https://scikit-learn.org/stable/modules/linear_model.html#logistic-regression\n",
      "  n_iter_i = _check_optimize_result(\n",
      "2021-11-06 01:13:01,388 train log_loss=0.1299505959695313\n",
      "2021-11-06 01:13:01,389 val log_loss=0.15990466024387104\n",
      "2021-11-06 01:13:01,394 params={'C': 4.5, 'max_iter': 300, 'random_state': 1}\n",
      "/Users/ruslantsygankov/studying/ITMO/csc_rec_sys/Recsys-course-homework/venv/lib/python3.8/site-packages/sklearn/linear_model/_logistic.py:814: ConvergenceWarning: lbfgs failed to converge (status=1):\n",
      "STOP: TOTAL NO. of ITERATIONS REACHED LIMIT.\n",
      "\n",
      "Increase the number of iterations (max_iter) or scale the data as shown in:\n",
      "    https://scikit-learn.org/stable/modules/preprocessing.html\n",
      "Please also refer to the documentation for alternative solver options:\n",
      "    https://scikit-learn.org/stable/modules/linear_model.html#logistic-regression\n",
      "  n_iter_i = _check_optimize_result(\n",
      "2021-11-06 01:14:11,245 train log_loss=0.12991051659712177\n",
      "2021-11-06 01:14:11,246 val log_loss=0.15972772943652747\n",
      "2021-11-06 01:14:11,251 params={'C': 4.5, 'max_iter': 500, 'random_state': 1}\n",
      "2021-11-06 01:15:22,262 train log_loss=0.12991031162121192\n",
      "2021-11-06 01:15:22,265 val log_loss=0.1597323883224449\n",
      "2021-11-06 01:15:22,270 params={'C': 4.5, 'max_iter': 700, 'random_state': 1}\n",
      "2021-11-06 01:16:38,112 train log_loss=0.12991031162121192\n",
      "2021-11-06 01:16:38,113 val log_loss=0.1597323883224449\n",
      "2021-11-06 01:16:38,118 params={'C': 4.5, 'max_iter': 900, 'random_state': 1}\n",
      "2021-11-06 01:17:53,126 train log_loss=0.12991031162121192\n",
      "2021-11-06 01:17:53,127 val log_loss=0.1597323883224449\n",
      "2021-11-06 01:17:53,134 params={'C': 4.75, 'max_iter': 100, 'random_state': 1}\n",
      "/Users/ruslantsygankov/studying/ITMO/csc_rec_sys/Recsys-course-homework/venv/lib/python3.8/site-packages/sklearn/linear_model/_logistic.py:814: ConvergenceWarning: lbfgs failed to converge (status=1):\n",
      "STOP: TOTAL NO. of ITERATIONS REACHED LIMIT.\n",
      "\n",
      "Increase the number of iterations (max_iter) or scale the data as shown in:\n",
      "    https://scikit-learn.org/stable/modules/preprocessing.html\n",
      "Please also refer to the documentation for alternative solver options:\n",
      "    https://scikit-learn.org/stable/modules/linear_model.html#logistic-regression\n",
      "  n_iter_i = _check_optimize_result(\n",
      "2021-11-06 01:18:15,779 train log_loss=0.12995759317445868\n",
      "2021-11-06 01:18:15,779 val log_loss=0.1597802374157985\n",
      "2021-11-06 01:18:15,785 params={'C': 4.75, 'max_iter': 300, 'random_state': 1}\n",
      "/Users/ruslantsygankov/studying/ITMO/csc_rec_sys/Recsys-course-homework/venv/lib/python3.8/site-packages/sklearn/linear_model/_logistic.py:814: ConvergenceWarning: lbfgs failed to converge (status=1):\n",
      "STOP: TOTAL NO. of ITERATIONS REACHED LIMIT.\n",
      "\n",
      "Increase the number of iterations (max_iter) or scale the data as shown in:\n",
      "    https://scikit-learn.org/stable/modules/preprocessing.html\n",
      "Please also refer to the documentation for alternative solver options:\n",
      "    https://scikit-learn.org/stable/modules/linear_model.html#logistic-regression\n",
      "  n_iter_i = _check_optimize_result(\n",
      "2021-11-06 01:19:29,081 train log_loss=0.12991019852010266\n",
      "2021-11-06 01:19:29,082 val log_loss=0.15974450137833077\n",
      "2021-11-06 01:19:29,091 params={'C': 4.75, 'max_iter': 500, 'random_state': 1}\n",
      "2021-11-06 01:20:47,900 train log_loss=0.12991001063350371\n",
      "2021-11-06 01:20:47,901 val log_loss=0.1597222149980033\n",
      "2021-11-06 01:20:47,906 params={'C': 4.75, 'max_iter': 700, 'random_state': 1}\n",
      "2021-11-06 01:22:08,667 train log_loss=0.12991001063350371\n",
      "2021-11-06 01:22:08,668 val log_loss=0.1597222149980033\n",
      "2021-11-06 01:22:08,674 params={'C': 4.75, 'max_iter': 900, 'random_state': 1}\n",
      "2021-11-06 01:23:30,074 train log_loss=0.12991001063350371\n",
      "2021-11-06 01:23:30,075 val log_loss=0.1597222149980033\n",
      "2021-11-06 01:23:30,081 params={'C': 5.0, 'max_iter': 100, 'random_state': 1}\n",
      "/Users/ruslantsygankov/studying/ITMO/csc_rec_sys/Recsys-course-homework/venv/lib/python3.8/site-packages/sklearn/linear_model/_logistic.py:814: ConvergenceWarning: lbfgs failed to converge (status=1):\n",
      "STOP: TOTAL NO. of ITERATIONS REACHED LIMIT.\n",
      "\n",
      "Increase the number of iterations (max_iter) or scale the data as shown in:\n",
      "    https://scikit-learn.org/stable/modules/preprocessing.html\n",
      "Please also refer to the documentation for alternative solver options:\n",
      "    https://scikit-learn.org/stable/modules/linear_model.html#logistic-regression\n",
      "  n_iter_i = _check_optimize_result(\n"
     ]
    },
    {
     "name": "stderr",
     "output_type": "stream",
     "text": [
      "2021-11-06 01:23:56,418 train log_loss=0.1299489990098209\n",
      "2021-11-06 01:23:56,419 val log_loss=0.15977491614312084\n",
      "2021-11-06 01:23:56,424 params={'C': 5.0, 'max_iter': 300, 'random_state': 1}\n",
      "/Users/ruslantsygankov/studying/ITMO/csc_rec_sys/Recsys-course-homework/venv/lib/python3.8/site-packages/sklearn/linear_model/_logistic.py:814: ConvergenceWarning: lbfgs failed to converge (status=1):\n",
      "STOP: TOTAL NO. of ITERATIONS REACHED LIMIT.\n",
      "\n",
      "Increase the number of iterations (max_iter) or scale the data as shown in:\n",
      "    https://scikit-learn.org/stable/modules/preprocessing.html\n",
      "Please also refer to the documentation for alternative solver options:\n",
      "    https://scikit-learn.org/stable/modules/linear_model.html#logistic-regression\n",
      "  n_iter_i = _check_optimize_result(\n",
      "2021-11-06 01:25:09,374 train log_loss=0.12991137070919834\n",
      "2021-11-06 01:25:09,375 val log_loss=0.1597363122252091\n",
      "2021-11-06 01:25:09,380 params={'C': 5.0, 'max_iter': 500, 'random_state': 1}\n",
      "2021-11-06 01:26:44,279 train log_loss=0.12990940159874226\n",
      "2021-11-06 01:26:44,280 val log_loss=0.15975015247832788\n",
      "2021-11-06 01:26:44,285 params={'C': 5.0, 'max_iter': 700, 'random_state': 1}\n",
      "2021-11-06 01:28:15,102 train log_loss=0.12990940159874226\n",
      "2021-11-06 01:28:15,103 val log_loss=0.15975015247832788\n",
      "2021-11-06 01:28:15,110 params={'C': 5.0, 'max_iter': 900, 'random_state': 1}\n",
      "2021-11-06 01:29:46,878 train log_loss=0.12990940159874226\n",
      "2021-11-06 01:29:46,878 val log_loss=0.15975015247832788\n",
      "2021-11-06 01:29:46,883 params={'C': 5.25, 'max_iter': 100, 'random_state': 1}\n",
      "/Users/ruslantsygankov/studying/ITMO/csc_rec_sys/Recsys-course-homework/venv/lib/python3.8/site-packages/sklearn/linear_model/_logistic.py:814: ConvergenceWarning: lbfgs failed to converge (status=1):\n",
      "STOP: TOTAL NO. of ITERATIONS REACHED LIMIT.\n",
      "\n",
      "Increase the number of iterations (max_iter) or scale the data as shown in:\n",
      "    https://scikit-learn.org/stable/modules/preprocessing.html\n",
      "Please also refer to the documentation for alternative solver options:\n",
      "    https://scikit-learn.org/stable/modules/linear_model.html#logistic-regression\n",
      "  n_iter_i = _check_optimize_result(\n",
      "2021-11-06 01:30:10,720 train log_loss=0.12994567149289146\n",
      "2021-11-06 01:30:10,721 val log_loss=0.15993348127533374\n",
      "2021-11-06 01:30:10,726 params={'C': 5.25, 'max_iter': 300, 'random_state': 1}\n",
      "/Users/ruslantsygankov/studying/ITMO/csc_rec_sys/Recsys-course-homework/venv/lib/python3.8/site-packages/sklearn/linear_model/_logistic.py:814: ConvergenceWarning: lbfgs failed to converge (status=1):\n",
      "STOP: TOTAL NO. of ITERATIONS REACHED LIMIT.\n",
      "\n",
      "Increase the number of iterations (max_iter) or scale the data as shown in:\n",
      "    https://scikit-learn.org/stable/modules/preprocessing.html\n",
      "Please also refer to the documentation for alternative solver options:\n",
      "    https://scikit-learn.org/stable/modules/linear_model.html#logistic-regression\n",
      "  n_iter_i = _check_optimize_result(\n",
      "2021-11-06 01:31:18,380 train log_loss=0.12990991665061133\n",
      "2021-11-06 01:31:18,398 val log_loss=0.15974458366753422\n",
      "2021-11-06 01:31:18,405 params={'C': 5.25, 'max_iter': 500, 'random_state': 1}\n",
      "2021-11-06 01:32:47,847 train log_loss=0.1299094022277879\n",
      "2021-11-06 01:32:47,848 val log_loss=0.15973184026975695\n",
      "2021-11-06 01:32:47,853 params={'C': 5.25, 'max_iter': 700, 'random_state': 1}\n",
      "2021-11-06 01:34:11,901 train log_loss=0.1299094022277879\n",
      "2021-11-06 01:34:11,902 val log_loss=0.15973184026975695\n",
      "2021-11-06 01:34:11,907 params={'C': 5.25, 'max_iter': 900, 'random_state': 1}\n",
      "2021-11-06 01:35:37,822 train log_loss=0.1299094022277879\n",
      "2021-11-06 01:35:37,823 val log_loss=0.15973184026975695\n",
      "2021-11-06 01:35:37,827 params={'C': 5.5, 'max_iter': 100, 'random_state': 1}\n",
      "/Users/ruslantsygankov/studying/ITMO/csc_rec_sys/Recsys-course-homework/venv/lib/python3.8/site-packages/sklearn/linear_model/_logistic.py:814: ConvergenceWarning: lbfgs failed to converge (status=1):\n",
      "STOP: TOTAL NO. of ITERATIONS REACHED LIMIT.\n",
      "\n",
      "Increase the number of iterations (max_iter) or scale the data as shown in:\n",
      "    https://scikit-learn.org/stable/modules/preprocessing.html\n",
      "Please also refer to the documentation for alternative solver options:\n",
      "    https://scikit-learn.org/stable/modules/linear_model.html#logistic-regression\n",
      "  n_iter_i = _check_optimize_result(\n",
      "2021-11-06 01:36:00,849 train log_loss=0.12996270538093557\n",
      "2021-11-06 01:36:00,850 val log_loss=0.15982423090201522\n",
      "2021-11-06 01:36:00,855 params={'C': 5.5, 'max_iter': 300, 'random_state': 1}\n",
      "/Users/ruslantsygankov/studying/ITMO/csc_rec_sys/Recsys-course-homework/venv/lib/python3.8/site-packages/sklearn/linear_model/_logistic.py:814: ConvergenceWarning: lbfgs failed to converge (status=1):\n",
      "STOP: TOTAL NO. of ITERATIONS REACHED LIMIT.\n",
      "\n",
      "Increase the number of iterations (max_iter) or scale the data as shown in:\n",
      "    https://scikit-learn.org/stable/modules/preprocessing.html\n",
      "Please also refer to the documentation for alternative solver options:\n",
      "    https://scikit-learn.org/stable/modules/linear_model.html#logistic-regression\n",
      "  n_iter_i = _check_optimize_result(\n",
      "2021-11-06 01:37:09,738 train log_loss=0.12990901669141172\n",
      "2021-11-06 01:37:09,739 val log_loss=0.15974029315222513\n",
      "2021-11-06 01:37:09,745 params={'C': 5.5, 'max_iter': 500, 'random_state': 1}\n",
      "2021-11-06 01:38:48,435 train log_loss=0.12990866960471328\n",
      "2021-11-06 01:38:48,436 val log_loss=0.15974725969731457\n",
      "2021-11-06 01:38:48,444 params={'C': 5.5, 'max_iter': 700, 'random_state': 1}\n",
      "2021-11-06 01:40:19,946 train log_loss=0.12990866960471328\n",
      "2021-11-06 01:40:19,946 val log_loss=0.15974725969731457\n",
      "2021-11-06 01:40:19,951 params={'C': 5.5, 'max_iter': 900, 'random_state': 1}\n",
      "2021-11-06 01:41:56,716 train log_loss=0.12990866960471328\n",
      "2021-11-06 01:41:56,717 val log_loss=0.15974725969731457\n",
      "2021-11-06 01:41:56,721 params={'C': 5.75, 'max_iter': 100, 'random_state': 1}\n",
      "/Users/ruslantsygankov/studying/ITMO/csc_rec_sys/Recsys-course-homework/venv/lib/python3.8/site-packages/sklearn/linear_model/_logistic.py:814: ConvergenceWarning: lbfgs failed to converge (status=1):\n",
      "STOP: TOTAL NO. of ITERATIONS REACHED LIMIT.\n",
      "\n",
      "Increase the number of iterations (max_iter) or scale the data as shown in:\n",
      "    https://scikit-learn.org/stable/modules/preprocessing.html\n",
      "Please also refer to the documentation for alternative solver options:\n",
      "    https://scikit-learn.org/stable/modules/linear_model.html#logistic-regression\n",
      "  n_iter_i = _check_optimize_result(\n",
      "2021-11-06 01:42:18,796 train log_loss=0.12993813506159427\n",
      "2021-11-06 01:42:18,797 val log_loss=0.15985518631782517\n",
      "2021-11-06 01:42:18,802 params={'C': 5.75, 'max_iter': 300, 'random_state': 1}\n",
      "/Users/ruslantsygankov/studying/ITMO/csc_rec_sys/Recsys-course-homework/venv/lib/python3.8/site-packages/sklearn/linear_model/_logistic.py:814: ConvergenceWarning: lbfgs failed to converge (status=1):\n",
      "STOP: TOTAL NO. of ITERATIONS REACHED LIMIT.\n",
      "\n",
      "Increase the number of iterations (max_iter) or scale the data as shown in:\n",
      "    https://scikit-learn.org/stable/modules/preprocessing.html\n",
      "Please also refer to the documentation for alternative solver options:\n",
      "    https://scikit-learn.org/stable/modules/linear_model.html#logistic-regression\n",
      "  n_iter_i = _check_optimize_result(\n",
      "2021-11-06 01:43:27,321 train log_loss=0.129909978164999\n",
      "2021-11-06 01:43:27,322 val log_loss=0.15971814519245425\n",
      "2021-11-06 01:43:27,327 params={'C': 5.75, 'max_iter': 500, 'random_state': 1}\n",
      "2021-11-06 01:44:50,344 train log_loss=0.12990850010691224\n",
      "2021-11-06 01:44:50,345 val log_loss=0.15975538899065372\n",
      "2021-11-06 01:44:50,349 params={'C': 5.75, 'max_iter': 700, 'random_state': 1}\n",
      "2021-11-06 01:46:15,700 train log_loss=0.12990850010691224\n",
      "2021-11-06 01:46:15,701 val log_loss=0.15975538899065372\n",
      "2021-11-06 01:46:15,706 params={'C': 5.75, 'max_iter': 900, 'random_state': 1}\n",
      "2021-11-06 01:47:38,214 train log_loss=0.12990850010691224\n",
      "2021-11-06 01:47:38,215 val log_loss=0.15975538899065372\n"
     ]
    }
   ],
   "source": [
    "results = []\n",
    "for param in params:\n",
    "    results.append(train_eval_model(X_y_validation, model, param))"
   ]
  },
  {
   "cell_type": "code",
   "execution_count": 65,
   "metadata": {},
   "outputs": [],
   "source": [
    "results_df = pd.DataFrame(results)"
   ]
  },
  {
   "cell_type": "code",
   "execution_count": 71,
   "metadata": {},
   "outputs": [
    {
     "data": {
      "text/html": [
       "<div>\n",
       "<style scoped>\n",
       "    .dataframe tbody tr th:only-of-type {\n",
       "        vertical-align: middle;\n",
       "    }\n",
       "\n",
       "    .dataframe tbody tr th {\n",
       "        vertical-align: top;\n",
       "    }\n",
       "\n",
       "    .dataframe thead th {\n",
       "        text-align: right;\n",
       "    }\n",
       "</style>\n",
       "<table border=\"1\" class=\"dataframe\">\n",
       "  <thead>\n",
       "    <tr style=\"text-align: right;\">\n",
       "      <th></th>\n",
       "      <th>params</th>\n",
       "      <th>train_score</th>\n",
       "      <th>val_score</th>\n",
       "    </tr>\n",
       "  </thead>\n",
       "  <tbody>\n",
       "    <tr>\n",
       "      <th>1</th>\n",
       "      <td>{'C': 0.5, 'max_iter': 300, 'random_state': 1}</td>\n",
       "      <td>0.130029</td>\n",
       "      <td>0.158943</td>\n",
       "    </tr>\n",
       "    <tr>\n",
       "      <th>2</th>\n",
       "      <td>{'C': 0.5, 'max_iter': 500, 'random_state': 1}</td>\n",
       "      <td>0.130029</td>\n",
       "      <td>0.158943</td>\n",
       "    </tr>\n",
       "    <tr>\n",
       "      <th>3</th>\n",
       "      <td>{'C': 0.5, 'max_iter': 700, 'random_state': 1}</td>\n",
       "      <td>0.130029</td>\n",
       "      <td>0.158943</td>\n",
       "    </tr>\n",
       "    <tr>\n",
       "      <th>4</th>\n",
       "      <td>{'C': 0.5, 'max_iter': 900, 'random_state': 1}</td>\n",
       "      <td>0.130029</td>\n",
       "      <td>0.158943</td>\n",
       "    </tr>\n",
       "    <tr>\n",
       "      <th>0</th>\n",
       "      <td>{'C': 0.5, 'max_iter': 100, 'random_state': 1}</td>\n",
       "      <td>0.130049</td>\n",
       "      <td>0.159072</td>\n",
       "    </tr>\n",
       "  </tbody>\n",
       "</table>\n",
       "</div>"
      ],
      "text/plain": [
       "                                           params  train_score  val_score\n",
       "1  {'C': 0.5, 'max_iter': 300, 'random_state': 1}     0.130029   0.158943\n",
       "2  {'C': 0.5, 'max_iter': 500, 'random_state': 1}     0.130029   0.158943\n",
       "3  {'C': 0.5, 'max_iter': 700, 'random_state': 1}     0.130029   0.158943\n",
       "4  {'C': 0.5, 'max_iter': 900, 'random_state': 1}     0.130029   0.158943\n",
       "0  {'C': 0.5, 'max_iter': 100, 'random_state': 1}     0.130049   0.159072"
      ]
     },
     "execution_count": 71,
     "metadata": {},
     "output_type": "execute_result"
    }
   ],
   "source": [
    "results_df.sort_values('val_score', ascending=True).head()"
   ]
  },
  {
   "cell_type": "code",
   "execution_count": 69,
   "metadata": {},
   "outputs": [],
   "source": [
    "best_params = {'C': 0.5, 'max_iter': 300, 'random_state': 1} "
   ]
  },
  {
   "cell_type": "code",
   "execution_count": 73,
   "metadata": {},
   "outputs": [
    {
     "name": "stderr",
     "output_type": "stream",
     "text": [
      "2021-11-06 10:41:15,917 params={'C': 0.5, 'max_iter': 300, 'random_state': 1}\n",
      "2021-11-06 10:41:50,650 train log_loss=0.1427875464240435\n",
      "2021-11-06 10:41:50,651 val log_loss=0.13998072945658324\n"
     ]
    },
    {
     "data": {
      "text/plain": [
       "{'params': {'C': 0.5, 'max_iter': 300, 'random_state': 1},\n",
       " 'train_score': 0.1427875464240435,\n",
       " 'val_score': 0.13998072945658324}"
      ]
     },
     "execution_count": 73,
     "metadata": {},
     "output_type": "execute_result"
    }
   ],
   "source": [
    "train_eval_model(X_y_test, model, best_params)"
   ]
  },
  {
   "cell_type": "code",
   "execution_count": null,
   "metadata": {},
   "outputs": [],
   "source": []
  }
 ],
 "metadata": {
  "interpreter": {
   "hash": "c573e46ebead58db36569680cc0ab268342f230bf4121c93a3b85d9337ecfb20"
  },
  "kernelspec": {
   "display_name": "csc_recsys",
   "language": "python",
   "name": "csc_recsys"
  },
  "language_info": {
   "codemirror_mode": {
    "name": "ipython",
    "version": 3
   },
   "file_extension": ".py",
   "mimetype": "text/x-python",
   "name": "python",
   "nbconvert_exporter": "python",
   "pygments_lexer": "ipython3",
   "version": "3.8.5"
  },
  "toc": {
   "base_numbering": 1,
   "nav_menu": {},
   "number_sections": true,
   "sideBar": true,
   "skip_h1_title": false,
   "title_cell": "Table of Contents",
   "title_sidebar": "Contents",
   "toc_cell": false,
   "toc_position": {},
   "toc_section_display": true,
   "toc_window_display": true
  },
  "varInspector": {
   "cols": {
    "lenName": 16,
    "lenType": 16,
    "lenVar": 40
   },
   "kernels_config": {
    "python": {
     "delete_cmd_postfix": "",
     "delete_cmd_prefix": "del ",
     "library": "var_list.py",
     "varRefreshCmd": "print(var_dic_list())"
    },
    "r": {
     "delete_cmd_postfix": ") ",
     "delete_cmd_prefix": "rm(",
     "library": "var_list.r",
     "varRefreshCmd": "cat(var_dic_list()) "
    }
   },
   "types_to_exclude": [
    "module",
    "function",
    "builtin_function_or_method",
    "instance",
    "_Feature"
   ],
   "window_display": false
  }
 },
 "nbformat": 4,
 "nbformat_minor": 1
}
